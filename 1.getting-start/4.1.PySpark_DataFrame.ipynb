{
 "cells": [
  {
   "cell_type": "code",
   "execution_count": 12,
   "id": "d20ba949",
   "metadata": {},
   "outputs": [],
   "source": [
    "import pyspark\n",
    "from pyspark import SparkContext\n",
    "from pyspark.sql import Row, SQLContext, SparkSession\n",
    "import os"
   ]
  },
  {
   "cell_type": "code",
   "execution_count": 2,
   "id": "60ecc9ff",
   "metadata": {},
   "outputs": [
    {
     "name": "stderr",
     "output_type": "stream",
     "text": [
      "WARNING: An illegal reflective access operation has occurred\n",
      "WARNING: Illegal reflective access by org.apache.spark.unsafe.Platform (file:/opt/homebrew/Cellar/apache-spark/3.2.1/libexec/jars/spark-unsafe_2.12-3.2.1.jar) to constructor java.nio.DirectByteBuffer(long,int)\n",
      "WARNING: Please consider reporting this to the maintainers of org.apache.spark.unsafe.Platform\n",
      "WARNING: Use --illegal-access=warn to enable warnings of further illegal reflective access operations\n",
      "WARNING: All illegal access operations will be denied in a future release\n",
      "Using Spark's default log4j profile: org/apache/spark/log4j-defaults.properties\n",
      "Setting default log level to \"WARN\".\n",
      "To adjust logging level use sc.setLogLevel(newLevel). For SparkR, use setLogLevel(newLevel).\n",
      "22/05/08 18:26:56 WARN NativeCodeLoader: Unable to load native-hadoop library for your platform... using builtin-java classes where applicable\n"
     ]
    }
   ],
   "source": [
    "sc = SparkContext()"
   ]
  },
  {
   "cell_type": "code",
   "execution_count": 3,
   "id": "7b5245dd",
   "metadata": {},
   "outputs": [
    {
     "name": "stderr",
     "output_type": "stream",
     "text": [
      "/Users/nathanngo/miniconda3/envs/pyspark/lib/python3.8/site-packages/pyspark/sql/context.py:77: FutureWarning: Deprecated in 3.0.0. Use SparkSession.builder.getOrCreate() instead.\n",
      "  warnings.warn(\n"
     ]
    }
   ],
   "source": [
    "sqlContext = SQLContext(sc)"
   ]
  },
  {
   "cell_type": "markdown",
   "id": "3a2619cd",
   "metadata": {},
   "source": [
    "### 1. Create DataFrame"
   ]
  },
  {
   "cell_type": "markdown",
   "id": "61e62df1",
   "metadata": {},
   "source": [
    "#### 1.1. Create DataFrame from RDD"
   ]
  },
  {
   "cell_type": "code",
   "execution_count": 4,
   "id": "3e4d636f",
   "metadata": {},
   "outputs": [],
   "source": [
    "lst_1 = [('Jisoo', 27), ('Jennie', 26), ('Rose', 24), ('Lisa', 24)]\n",
    "RDD_1 = sc.parallelize(lst_1)\n",
    "pair_RDD_1 = RDD_1.map(lambda x: Row(name = x[0], marks = x[1]))"
   ]
  },
  {
   "cell_type": "code",
   "execution_count": 6,
   "id": "6f20f3de",
   "metadata": {},
   "outputs": [
    {
     "data": {
      "text/plain": [
       "[Row(name='Jisoo', marks=27),\n",
       " Row(name='Jennie', marks=26),\n",
       " Row(name='Rose', marks=24),\n",
       " Row(name='Lisa', marks=24)]"
      ]
     },
     "execution_count": 6,
     "metadata": {},
     "output_type": "execute_result"
    }
   ],
   "source": [
    "pair_RDD_1.collect()"
   ]
  },
  {
   "cell_type": "code",
   "execution_count": 7,
   "id": "cf498794",
   "metadata": {},
   "outputs": [
    {
     "data": {
      "text/plain": [
       "DataFrame[name: string, marks: bigint]"
      ]
     },
     "execution_count": 7,
     "metadata": {},
     "output_type": "execute_result"
    }
   ],
   "source": [
    "schema_1 = sqlContext.createDataFrame(pair_RDD_1)\n",
    "schema_1"
   ]
  },
  {
   "cell_type": "code",
   "execution_count": 8,
   "id": "694df5f4",
   "metadata": {},
   "outputs": [
    {
     "data": {
      "text/plain": [
       "pyspark.sql.dataframe.DataFrame"
      ]
     },
     "execution_count": 8,
     "metadata": {},
     "output_type": "execute_result"
    }
   ],
   "source": [
    "type(schema_1)"
   ]
  },
  {
   "cell_type": "code",
   "execution_count": 9,
   "id": "f445fa07",
   "metadata": {},
   "outputs": [
    {
     "name": "stdout",
     "output_type": "stream",
     "text": [
      "+------+-----+\n",
      "|  name|marks|\n",
      "+------+-----+\n",
      "| Jisoo|   27|\n",
      "|Jennie|   26|\n",
      "|  Rose|   24|\n",
      "|  Lisa|   24|\n",
      "+------+-----+\n",
      "\n"
     ]
    }
   ],
   "source": [
    "schema_1.show()"
   ]
  },
  {
   "cell_type": "markdown",
   "id": "7b6ee5f9",
   "metadata": {},
   "source": [
    "#### 1.2. Create DataFrame from csv file"
   ]
  },
  {
   "cell_type": "code",
   "execution_count": 13,
   "id": "5245bcf3",
   "metadata": {},
   "outputs": [],
   "source": [
    "spark = SparkSession(sc)"
   ]
  },
  {
   "cell_type": "code",
   "execution_count": 17,
   "id": "030c832f",
   "metadata": {},
   "outputs": [
    {
     "name": "stdout",
     "output_type": "stream",
     "text": [
      "+----------+------------------+---------+---------+------------------+--------+------------------+\n",
      "|       _c0|               _c1|      _c2|      _c3|               _c4|     _c5|               _c6|\n",
      "+----------+------------------+---------+---------+------------------+--------+------------------+\n",
      "|      Date|              Open|     High|      Low|             Close|  Volume|         Adj Close|\n",
      "|2012-01-03|         59.970001|61.060001|59.869999|         60.330002|12668800|52.619234999999996|\n",
      "|2012-01-04|60.209998999999996|60.349998|59.470001|59.709998999999996| 9593300|         52.078475|\n",
      "|2012-01-05|         59.349998|59.619999|58.369999|         59.419998|12768200|         51.825539|\n",
      "|2012-01-06|         59.419998|59.450001|58.869999|              59.0| 8069400|          51.45922|\n",
      "+----------+------------------+---------+---------+------------------+--------+------------------+\n",
      "only showing top 5 rows\n",
      "\n"
     ]
    }
   ],
   "source": [
    "csv_file_path = os.path.join('..', 'src-data', 'walmart_stock.csv')\n",
    "schema_2 = spark.read.csv(csv_file_path)\n",
    "schema_2.show(5)"
   ]
  },
  {
   "cell_type": "markdown",
   "id": "7f19d50e",
   "metadata": {},
   "source": [
    "Read with option"
   ]
  },
  {
   "cell_type": "code",
   "execution_count": 19,
   "id": "cbce53b6",
   "metadata": {},
   "outputs": [
    {
     "name": "stdout",
     "output_type": "stream",
     "text": [
      "+----------+------------------+---------+---------+------------------+--------+------------------+\n",
      "|      Date|              Open|     High|      Low|             Close|  Volume|         Adj Close|\n",
      "+----------+------------------+---------+---------+------------------+--------+------------------+\n",
      "|2012-01-03|         59.970001|61.060001|59.869999|         60.330002|12668800|52.619234999999996|\n",
      "|2012-01-04|60.209998999999996|60.349998|59.470001|59.709998999999996| 9593300|         52.078475|\n",
      "|2012-01-05|         59.349998|59.619999|58.369999|         59.419998|12768200|         51.825539|\n",
      "|2012-01-06|         59.419998|59.450001|58.869999|              59.0| 8069400|          51.45922|\n",
      "|2012-01-09|         59.029999|59.549999|58.919998|             59.18| 6679300|51.616215000000004|\n",
      "+----------+------------------+---------+---------+------------------+--------+------------------+\n",
      "only showing top 5 rows\n",
      "\n"
     ]
    }
   ],
   "source": [
    "schema_3 = spark.read.option('header', True).csv(csv_file_path)\n",
    "schema_3.show(5)"
   ]
  },
  {
   "cell_type": "markdown",
   "id": "0cb6617e",
   "metadata": {},
   "source": [
    "You can use SparkSession --> to `createDataFrame` method"
   ]
  },
  {
   "cell_type": "markdown",
   "id": "569b2a22",
   "metadata": {},
   "source": [
    "#### 1.3. create DataFrame from json file"
   ]
  },
  {
   "cell_type": "code",
   "execution_count": 20,
   "id": "d7839350",
   "metadata": {},
   "outputs": [
    {
     "name": "stdout",
     "output_type": "stream",
     "text": [
      "+---------------+-----------+----------+-----------+----------+-------+\n",
      "|_corrupt_record|petalLength|petalWidth|sepalLength|sepalWidth|species|\n",
      "+---------------+-----------+----------+-----------+----------+-------+\n",
      "|              [|       null|      null|       null|      null|   null|\n",
      "|           null|        1.4|       0.2|        5.1|       3.5| setosa|\n",
      "|           null|        1.4|       0.2|        4.9|       3.0| setosa|\n",
      "|           null|        1.3|       0.2|        4.7|       3.2| setosa|\n",
      "|           null|        1.5|       0.2|        4.6|       3.1| setosa|\n",
      "+---------------+-----------+----------+-----------+----------+-------+\n",
      "only showing top 5 rows\n",
      "\n"
     ]
    }
   ],
   "source": [
    "json_file_path = os.path.join('..', 'src-data', 'iris.json')\n",
    "schema_4 = spark.read.json(json_file_path)\n",
    "schema_4.show(5)"
   ]
  },
  {
   "cell_type": "markdown",
   "id": "c2d72d1f",
   "metadata": {},
   "source": [
    "### 2. DataFrame Manipulation"
   ]
  },
  {
   "cell_type": "code",
   "execution_count": 29,
   "id": "180c5794",
   "metadata": {},
   "outputs": [],
   "source": [
    "csv_file_path = os.path.join('..', 'src-data', 'walmart_stock.csv')\n",
    "schema_5 = spark.read.option('header', True).csv(csv_file_path)"
   ]
  },
  {
   "cell_type": "markdown",
   "id": "541c9c8c",
   "metadata": {},
   "source": [
    "#### 2.1. Fundamental Manipulation"
   ]
  },
  {
   "cell_type": "markdown",
   "id": "52c52563",
   "metadata": {},
   "source": [
    "`printSchema()` method."
   ]
  },
  {
   "cell_type": "code",
   "execution_count": 30,
   "id": "97e917e9",
   "metadata": {},
   "outputs": [
    {
     "name": "stdout",
     "output_type": "stream",
     "text": [
      "root\n",
      " |-- Date: string (nullable = true)\n",
      " |-- Open: string (nullable = true)\n",
      " |-- High: string (nullable = true)\n",
      " |-- Low: string (nullable = true)\n",
      " |-- Close: string (nullable = true)\n",
      " |-- Volume: string (nullable = true)\n",
      " |-- Adj Close: string (nullable = true)\n",
      "\n"
     ]
    }
   ],
   "source": [
    "schema_5.printSchema()"
   ]
  },
  {
   "cell_type": "markdown",
   "id": "03cfc944",
   "metadata": {},
   "source": [
    "`show(n)` method: display n rows."
   ]
  },
  {
   "cell_type": "code",
   "execution_count": 31,
   "id": "826ebbd8",
   "metadata": {},
   "outputs": [
    {
     "name": "stdout",
     "output_type": "stream",
     "text": [
      "+----------+------------------+---------+---------+------------------+--------+------------------+\n",
      "|      Date|              Open|     High|      Low|             Close|  Volume|         Adj Close|\n",
      "+----------+------------------+---------+---------+------------------+--------+------------------+\n",
      "|2012-01-03|         59.970001|61.060001|59.869999|         60.330002|12668800|52.619234999999996|\n",
      "|2012-01-04|60.209998999999996|60.349998|59.470001|59.709998999999996| 9593300|         52.078475|\n",
      "|2012-01-05|         59.349998|59.619999|58.369999|         59.419998|12768200|         51.825539|\n",
      "|2012-01-06|         59.419998|59.450001|58.869999|              59.0| 8069400|          51.45922|\n",
      "|2012-01-09|         59.029999|59.549999|58.919998|             59.18| 6679300|51.616215000000004|\n",
      "+----------+------------------+---------+---------+------------------+--------+------------------+\n",
      "only showing top 5 rows\n",
      "\n"
     ]
    }
   ],
   "source": [
    "schema_5.show(5)"
   ]
  },
  {
   "cell_type": "markdown",
   "id": "f26b29d0",
   "metadata": {},
   "source": [
    "`count()` method: Return number of DataFrame."
   ]
  },
  {
   "cell_type": "code",
   "execution_count": 32,
   "id": "34a2e0d4",
   "metadata": {},
   "outputs": [
    {
     "data": {
      "text/plain": [
       "1258"
      ]
     },
     "execution_count": 32,
     "metadata": {},
     "output_type": "execute_result"
    }
   ],
   "source": [
    "schema_5.count()"
   ]
  },
  {
   "cell_type": "markdown",
   "id": "1e2de93c",
   "metadata": {},
   "source": [
    "`describe()` method: show statistic data."
   ]
  },
  {
   "cell_type": "markdown",
   "id": "f1fbdcd0",
   "metadata": {},
   "source": [
    "Show all columns in DataFrame."
   ]
  },
  {
   "cell_type": "code",
   "execution_count": 33,
   "id": "26af3a32",
   "metadata": {},
   "outputs": [
    {
     "name": "stdout",
     "output_type": "stream",
     "text": [
      "+-------+----------+------------------+-----------------+-----------------+-----------------+-----------------+-----------------+\n",
      "|summary|      Date|              Open|             High|              Low|            Close|           Volume|        Adj Close|\n",
      "+-------+----------+------------------+-----------------+-----------------+-----------------+-----------------+-----------------+\n",
      "|  count|      1258|              1258|             1258|             1258|             1258|             1258|             1258|\n",
      "|   mean|      null| 72.35785375357709|72.83938807631165| 71.9186009594594|72.38844998012726|8222093.481717011|67.23883848728146|\n",
      "| stddev|      null|  6.76809024470826|6.768186808159218|6.744075756255496|6.756859163732991|  4519780.8431556|6.722609449996857|\n",
      "|    min|2012-01-03|56.389998999999996|        57.060001|        56.299999|        56.419998|         10010500|        50.363689|\n",
      "|    max|2016-12-30|         90.800003|        90.970001|            89.25|        90.470001|          9994400|84.91421600000001|\n",
      "+-------+----------+------------------+-----------------+-----------------+-----------------+-----------------+-----------------+\n",
      "\n"
     ]
    }
   ],
   "source": [
    "schema_5.describe().show()"
   ]
  },
  {
   "cell_type": "markdown",
   "id": "ff890117",
   "metadata": {},
   "source": [
    "Just get statistics with specific comlumns."
   ]
  },
  {
   "cell_type": "code",
   "execution_count": 34,
   "id": "d380026e",
   "metadata": {},
   "outputs": [
    {
     "name": "stdout",
     "output_type": "stream",
     "text": [
      "+-------+-----------------+-----------------+\n",
      "|summary|              Low|           Volume|\n",
      "+-------+-----------------+-----------------+\n",
      "|  count|             1258|             1258|\n",
      "|   mean| 71.9186009594594|8222093.481717011|\n",
      "| stddev|6.744075756255496|  4519780.8431556|\n",
      "|    min|        56.299999|         10010500|\n",
      "|    max|            89.25|          9994400|\n",
      "+-------+-----------------+-----------------+\n",
      "\n"
     ]
    }
   ],
   "source": [
    "schema_5.describe(['Low', 'Volume']).show()"
   ]
  },
  {
   "cell_type": "markdown",
   "id": "116eca89",
   "metadata": {},
   "source": [
    "#### 2.2. `crosstab` method"
   ]
  },
  {
   "cell_type": "code",
   "execution_count": 41,
   "id": "c95a0bbf",
   "metadata": {},
   "outputs": [
    {
     "name": "stdout",
     "output_type": "stream",
     "text": [
      "+---------------+-----------+----------+-----------+----------+-------+\n",
      "|_corrupt_record|petalLength|petalWidth|sepalLength|sepalWidth|species|\n",
      "+---------------+-----------+----------+-----------+----------+-------+\n",
      "|              [|       null|      null|       null|      null|   null|\n",
      "|           null|        1.4|       0.2|        5.1|       3.5| setosa|\n",
      "|           null|        1.4|       0.2|        4.9|       3.0| setosa|\n",
      "|           null|        1.3|       0.2|        4.7|       3.2| setosa|\n",
      "|           null|        1.5|       0.2|        4.6|       3.1| setosa|\n",
      "+---------------+-----------+----------+-----------+----------+-------+\n",
      "only showing top 5 rows\n",
      "\n"
     ]
    }
   ],
   "source": [
    "json_file_path = os.path.join('..', 'src-data', 'iris.json')\n",
    "schema_6 = spark.read.json(json_file_path)\n",
    "schema_6.show(5)"
   ]
  },
  {
   "cell_type": "code",
   "execution_count": 43,
   "id": "a3732a91",
   "metadata": {},
   "outputs": [
    {
     "name": "stdout",
     "output_type": "stream",
     "text": [
      "+-------------------+----+------+----------+---------+\n",
      "|petalLength_species|null|setosa|versicolor|virginica|\n",
      "+-------------------+----+------+----------+---------+\n",
      "|               null|   2|     0|         0|        0|\n",
      "|                3.9|   0|     0|         3|        0|\n",
      "|                5.0|   0|     0|         1|        3|\n",
      "|                4.7|   0|     0|         5|        0|\n",
      "|                3.8|   0|     0|         1|        0|\n",
      "+-------------------+----+------+----------+---------+\n",
      "only showing top 5 rows\n",
      "\n"
     ]
    }
   ],
   "source": [
    "schema_6.crosstab('petalLength', 'species').show(5)"
   ]
  },
  {
   "cell_type": "markdown",
   "id": "9803b18f",
   "metadata": {},
   "source": [
    "#### 2.3. `groupby()` method"
   ]
  },
  {
   "cell_type": "code",
   "execution_count": 45,
   "id": "29525e8f",
   "metadata": {},
   "outputs": [
    {
     "name": "stdout",
     "output_type": "stream",
     "text": [
      "+----------+------------------+------------------+-----------------+------------------+\n",
      "|   species|  avg(petalLength)|   avg(petalWidth)| avg(sepalLength)|   avg(sepalWidth)|\n",
      "+----------+------------------+------------------+-----------------+------------------+\n",
      "| virginica|             5.552|             2.026|6.587999999999998|2.9739999999999998|\n",
      "|      null|              null|              null|             null|              null|\n",
      "|versicolor|              4.26|1.3259999999999998|            5.936|2.7700000000000005|\n",
      "|    setosa|1.4620000000000002|0.2459999999999999|5.005999999999999| 3.428000000000001|\n",
      "+----------+------------------+------------------+-----------------+------------------+\n",
      "\n"
     ]
    }
   ],
   "source": [
    "schema_6.groupby('species').mean().show()"
   ]
  },
  {
   "cell_type": "code",
   "execution_count": 46,
   "id": "43f90c8a",
   "metadata": {},
   "outputs": [
    {
     "name": "stdout",
     "output_type": "stream",
     "text": [
      "+----------+------------------+---------------+\n",
      "|   species|  avg(petalLength)|max(petalWidth)|\n",
      "+----------+------------------+---------------+\n",
      "| virginica|             5.552|            2.5|\n",
      "|      null|              null|           null|\n",
      "|versicolor|              4.26|            1.8|\n",
      "|    setosa|1.4620000000000002|            0.6|\n",
      "+----------+------------------+---------------+\n",
      "\n"
     ]
    }
   ],
   "source": [
    "schema_6.groupby('species').agg({'petalLength' :  'mean', 'petalWidth' : 'max'}).show()"
   ]
  },
  {
   "cell_type": "markdown",
   "id": "e326a130",
   "metadata": {},
   "source": [
    "#### 2.4. `select` method"
   ]
  },
  {
   "cell_type": "markdown",
   "id": "56be0eab",
   "metadata": {},
   "source": [
    "Create sub_DataFrame"
   ]
  },
  {
   "cell_type": "code",
   "execution_count": 48,
   "id": "9bcf98a2",
   "metadata": {},
   "outputs": [
    {
     "name": "stdout",
     "output_type": "stream",
     "text": [
      "+-----------+----------+-----------+----------+-------+\n",
      "|petalLength|petalWidth|sepalLength|sepalWidth|species|\n",
      "+-----------+----------+-----------+----------+-------+\n",
      "|       null|      null|       null|      null|   null|\n",
      "|        1.4|       0.2|        5.1|       3.5| setosa|\n",
      "|        1.4|       0.2|        4.9|       3.0| setosa|\n",
      "|        1.3|       0.2|        4.7|       3.2| setosa|\n",
      "|        1.5|       0.2|        4.6|       3.1| setosa|\n",
      "+-----------+----------+-----------+----------+-------+\n",
      "only showing top 5 rows\n",
      "\n"
     ]
    }
   ],
   "source": [
    "schema_7 = schema_6.select(['petalLength', 'petalWidth', 'sepalLength', 'sepalWidth', 'species'])\n",
    "schema_7.show(5)"
   ]
  },
  {
   "cell_type": "markdown",
   "id": "7ab37e2b",
   "metadata": {},
   "source": [
    "#### 2.5. `distinct` method"
   ]
  },
  {
   "cell_type": "markdown",
   "id": "7b365a99",
   "metadata": {},
   "source": [
    "Show unique data of one column. Use with `distinct` method"
   ]
  },
  {
   "cell_type": "code",
   "execution_count": 49,
   "id": "ce5f741d",
   "metadata": {},
   "outputs": [
    {
     "name": "stdout",
     "output_type": "stream",
     "text": [
      "+----------+\n",
      "|   species|\n",
      "+----------+\n",
      "| virginica|\n",
      "|      null|\n",
      "|versicolor|\n",
      "|    setosa|\n",
      "+----------+\n",
      "\n"
     ]
    }
   ],
   "source": [
    "schema_7.select('species').distinct().show()"
   ]
  },
  {
   "cell_type": "markdown",
   "id": "03c283f4",
   "metadata": {},
   "source": [
    "#### 2.6. `orderby` method.\n",
    "order ascending / descending in column."
   ]
  },
  {
   "cell_type": "code",
   "execution_count": 50,
   "id": "4727ad1a",
   "metadata": {},
   "outputs": [
    {
     "name": "stdout",
     "output_type": "stream",
     "text": [
      "+-----------+----------+-----------+----------+---------+\n",
      "|petalLength|petalWidth|sepalLength|sepalWidth|  species|\n",
      "+-----------+----------+-----------+----------+---------+\n",
      "|        6.4|       2.0|        7.9|       3.8|virginica|\n",
      "|        6.9|       2.3|        7.7|       2.6|virginica|\n",
      "|        6.7|       2.2|        7.7|       3.8|virginica|\n",
      "|        6.1|       2.3|        7.7|       3.0|virginica|\n",
      "|        6.7|       2.0|        7.7|       2.8|virginica|\n",
      "+-----------+----------+-----------+----------+---------+\n",
      "only showing top 5 rows\n",
      "\n"
     ]
    }
   ],
   "source": [
    "schema_7.orderBy(schema_7.sepalLength.desc()).show(5)"
   ]
  },
  {
   "cell_type": "code",
   "execution_count": 51,
   "id": "6c35a0de",
   "metadata": {},
   "outputs": [
    {
     "name": "stdout",
     "output_type": "stream",
     "text": [
      "+-----------+----------+-----------+----------+---------+\n",
      "|petalLength|petalWidth|sepalLength|sepalWidth|  species|\n",
      "+-----------+----------+-----------+----------+---------+\n",
      "|        6.4|       2.0|        7.9|       3.8|virginica|\n",
      "|        6.9|       2.3|        7.7|       2.6|virginica|\n",
      "|        6.7|       2.2|        7.7|       3.8|virginica|\n",
      "|        6.1|       2.3|        7.7|       3.0|virginica|\n",
      "|        6.7|       2.0|        7.7|       2.8|virginica|\n",
      "+-----------+----------+-----------+----------+---------+\n",
      "only showing top 5 rows\n",
      "\n"
     ]
    }
   ],
   "source": [
    "schema_7.orderBy(schema_7.sepalLength.desc()).show(5)"
   ]
  },
  {
   "cell_type": "markdown",
   "id": "d1084e82",
   "metadata": {},
   "source": [
    "#### 2.7. `withColumn` method"
   ]
  },
  {
   "cell_type": "markdown",
   "id": "3da8ea44",
   "metadata": {},
   "source": [
    "`withColumn('column_name', function)`: create new column."
   ]
  },
  {
   "cell_type": "code",
   "execution_count": 52,
   "id": "75c2cddf",
   "metadata": {},
   "outputs": [
    {
     "name": "stdout",
     "output_type": "stream",
     "text": [
      "+-----------+----------+-----------+----------+-------+------------------+\n",
      "|petalLength|petalWidth|sepalLength|sepalWidth|species|       total_width|\n",
      "+-----------+----------+-----------+----------+-------+------------------+\n",
      "|       null|      null|       null|      null|   null|              null|\n",
      "|        1.4|       0.2|        5.1|       3.5| setosa|               3.7|\n",
      "|        1.4|       0.2|        4.9|       3.0| setosa|               3.2|\n",
      "|        1.3|       0.2|        4.7|       3.2| setosa|3.4000000000000004|\n",
      "|        1.5|       0.2|        4.6|       3.1| setosa|3.3000000000000003|\n",
      "+-----------+----------+-----------+----------+-------+------------------+\n",
      "only showing top 5 rows\n",
      "\n"
     ]
    }
   ],
   "source": [
    "schema_7.withColumn('total_width', schema_7.petalWidth + schema_7.sepalWidth).show(5)"
   ]
  },
  {
   "cell_type": "markdown",
   "id": "1a923a9c",
   "metadata": {},
   "source": [
    "*Note:* If not `replace in-placed`."
   ]
  },
  {
   "cell_type": "code",
   "execution_count": 54,
   "id": "cb55ba3d",
   "metadata": {},
   "outputs": [
    {
     "name": "stdout",
     "output_type": "stream",
     "text": [
      "+-----------+----------+-----------+----------+-------+\n",
      "|petalLength|petalWidth|sepalLength|sepalWidth|species|\n",
      "+-----------+----------+-----------+----------+-------+\n",
      "|       null|      null|       null|      null|   null|\n",
      "|        1.4|       0.2|        5.1|       3.5| setosa|\n",
      "|        1.4|       0.2|        4.9|       3.0| setosa|\n",
      "|        1.3|       0.2|        4.7|       3.2| setosa|\n",
      "|        1.5|       0.2|        4.6|       3.1| setosa|\n",
      "+-----------+----------+-----------+----------+-------+\n",
      "only showing top 5 rows\n",
      "\n"
     ]
    }
   ],
   "source": [
    "schema_7.show(5) # don't have new column."
   ]
  },
  {
   "cell_type": "markdown",
   "id": "56406bd8",
   "metadata": {},
   "source": [
    "#### 2.8. `withColumnRenamed()` method"
   ]
  },
  {
   "cell_type": "code",
   "execution_count": 55,
   "id": "11d536a9",
   "metadata": {},
   "outputs": [
    {
     "name": "stdout",
     "output_type": "stream",
     "text": [
      "+-----------+----------+-----------+----------+------+\n",
      "|petalLength|petalWidth|sepalLength|sepalWidth| types|\n",
      "+-----------+----------+-----------+----------+------+\n",
      "|       null|      null|       null|      null|  null|\n",
      "|        1.4|       0.2|        5.1|       3.5|setosa|\n",
      "|        1.4|       0.2|        4.9|       3.0|setosa|\n",
      "|        1.3|       0.2|        4.7|       3.2|setosa|\n",
      "|        1.5|       0.2|        4.6|       3.1|setosa|\n",
      "+-----------+----------+-----------+----------+------+\n",
      "only showing top 5 rows\n",
      "\n"
     ]
    }
   ],
   "source": [
    "schema_7.withColumnRenamed('species', 'types').show(5)"
   ]
  },
  {
   "cell_type": "markdown",
   "id": "170ace94",
   "metadata": {},
   "source": [
    "#### 2.9. `drop` method"
   ]
  },
  {
   "cell_type": "code",
   "execution_count": 56,
   "id": "386d8036",
   "metadata": {},
   "outputs": [
    {
     "name": "stdout",
     "output_type": "stream",
     "text": [
      "+-----------+----------+-----------+----------+\n",
      "|petalLength|petalWidth|sepalLength|sepalWidth|\n",
      "+-----------+----------+-----------+----------+\n",
      "|       null|      null|       null|      null|\n",
      "|        1.4|       0.2|        5.1|       3.5|\n",
      "|        1.4|       0.2|        4.9|       3.0|\n",
      "|        1.3|       0.2|        4.7|       3.2|\n",
      "|        1.5|       0.2|        4.6|       3.1|\n",
      "+-----------+----------+-----------+----------+\n",
      "only showing top 5 rows\n",
      "\n"
     ]
    }
   ],
   "source": [
    "schema_7.drop('species').show(5)"
   ]
  },
  {
   "cell_type": "markdown",
   "id": "ac84d469",
   "metadata": {},
   "source": [
    "#### 2.10. `dropDuplicates` method"
   ]
  },
  {
   "cell_type": "code",
   "execution_count": 57,
   "id": "73a6ba45",
   "metadata": {},
   "outputs": [
    {
     "data": {
      "text/plain": [
       "152"
      ]
     },
     "execution_count": 57,
     "metadata": {},
     "output_type": "execute_result"
    }
   ],
   "source": [
    "schema_7.count()"
   ]
  },
  {
   "cell_type": "code",
   "execution_count": 63,
   "id": "7edf83e9",
   "metadata": {},
   "outputs": [
    {
     "data": {
      "text/plain": [
       "150"
      ]
     },
     "execution_count": 63,
     "metadata": {},
     "output_type": "execute_result"
    }
   ],
   "source": [
    "schema_7.dropDuplicates().count()"
   ]
  },
  {
   "cell_type": "markdown",
   "id": "e5f91ad8",
   "metadata": {},
   "source": [
    "mean 2 duplicates row in this DataFrame."
   ]
  },
  {
   "cell_type": "markdown",
   "id": "d855eb7b",
   "metadata": {},
   "source": [
    "#### 2.11. `dropna` method"
   ]
  },
  {
   "cell_type": "code",
   "execution_count": 64,
   "id": "89add49a",
   "metadata": {},
   "outputs": [
    {
     "data": {
      "text/plain": [
       "150"
      ]
     },
     "execution_count": 64,
     "metadata": {},
     "output_type": "execute_result"
    }
   ],
   "source": [
    "schema_7.dropna().count()"
   ]
  },
  {
   "cell_type": "markdown",
   "id": "697bc5b6",
   "metadata": {},
   "source": [
    "mean 2 rows have null value."
   ]
  },
  {
   "cell_type": "markdown",
   "id": "911d1cb4",
   "metadata": {},
   "source": [
    "#### 2.12. `filter` or `where` condtion\n",
    "filter data in DataFrame."
   ]
  },
  {
   "cell_type": "markdown",
   "id": "f5c5eec0",
   "metadata": {},
   "source": [
    "column value start with `v`"
   ]
  },
  {
   "cell_type": "code",
   "execution_count": 67,
   "id": "d637773a",
   "metadata": {},
   "outputs": [
    {
     "name": "stdout",
     "output_type": "stream",
     "text": [
      "+-----------+----------+-----------+----------+----------+\n",
      "|petalLength|petalWidth|sepalLength|sepalWidth|   species|\n",
      "+-----------+----------+-----------+----------+----------+\n",
      "|        4.7|       1.4|        7.0|       3.2|versicolor|\n",
      "|        4.5|       1.5|        6.4|       3.2|versicolor|\n",
      "|        4.9|       1.5|        6.9|       3.1|versicolor|\n",
      "|        4.0|       1.3|        5.5|       2.3|versicolor|\n",
      "|        4.6|       1.5|        6.5|       2.8|versicolor|\n",
      "+-----------+----------+-----------+----------+----------+\n",
      "only showing top 5 rows\n",
      "\n"
     ]
    }
   ],
   "source": [
    "schema_7.where(schema_7.species.like('v%')).show(5)"
   ]
  },
  {
   "cell_type": "markdown",
   "id": "f92a07f9",
   "metadata": {},
   "source": [
    "*Note:* like is sensitive case."
   ]
  },
  {
   "cell_type": "code",
   "execution_count": 70,
   "id": "281fc8f9",
   "metadata": {},
   "outputs": [
    {
     "name": "stdout",
     "output_type": "stream",
     "text": [
      "+-----------+----------+-----------+----------+-------+\n",
      "|petalLength|petalWidth|sepalLength|sepalWidth|species|\n",
      "+-----------+----------+-----------+----------+-------+\n",
      "+-----------+----------+-----------+----------+-------+\n",
      "\n"
     ]
    }
   ],
   "source": [
    "schema_7.where(schema_7.species.like('V%')).show(5)"
   ]
  },
  {
   "cell_type": "markdown",
   "id": "06c89fee",
   "metadata": {},
   "source": [
    "`contains` method: get value with string column contains with specific value."
   ]
  },
  {
   "cell_type": "code",
   "execution_count": 72,
   "id": "06c83b88",
   "metadata": {},
   "outputs": [
    {
     "name": "stdout",
     "output_type": "stream",
     "text": [
      "+-----------+----------+-----------+----------+-------+\n",
      "|petalLength|petalWidth|sepalLength|sepalWidth|species|\n",
      "+-----------+----------+-----------+----------+-------+\n",
      "|        1.4|       0.2|        5.1|       3.5| setosa|\n",
      "|        1.4|       0.2|        4.9|       3.0| setosa|\n",
      "|        1.3|       0.2|        4.7|       3.2| setosa|\n",
      "|        1.5|       0.2|        4.6|       3.1| setosa|\n",
      "|        1.4|       0.2|        5.0|       3.6| setosa|\n",
      "+-----------+----------+-----------+----------+-------+\n",
      "only showing top 5 rows\n",
      "\n"
     ]
    }
   ],
   "source": [
    "schema_7.where(schema_7.species.contains('setosa')).show(5)"
   ]
  },
  {
   "cell_type": "markdown",
   "id": "fd8eae90",
   "metadata": {},
   "source": [
    "`~`: inverse condition."
   ]
  },
  {
   "cell_type": "code",
   "execution_count": 73,
   "id": "85e60e83",
   "metadata": {},
   "outputs": [
    {
     "name": "stdout",
     "output_type": "stream",
     "text": [
      "+-----------+----------+-----------+----------+----------+\n",
      "|petalLength|petalWidth|sepalLength|sepalWidth|   species|\n",
      "+-----------+----------+-----------+----------+----------+\n",
      "|        4.7|       1.4|        7.0|       3.2|versicolor|\n",
      "|        4.5|       1.5|        6.4|       3.2|versicolor|\n",
      "|        4.9|       1.5|        6.9|       3.1|versicolor|\n",
      "|        4.0|       1.3|        5.5|       2.3|versicolor|\n",
      "|        4.6|       1.5|        6.5|       2.8|versicolor|\n",
      "+-----------+----------+-----------+----------+----------+\n",
      "only showing top 5 rows\n",
      "\n"
     ]
    }
   ],
   "source": [
    "schema_7.where(~schema_7.species.contains('setosa')).show(5)"
   ]
  },
  {
   "cell_type": "code",
   "execution_count": 78,
   "id": "769cedb7",
   "metadata": {},
   "outputs": [
    {
     "name": "stdout",
     "output_type": "stream",
     "text": [
      "+-----------+----------+-----------+----------+---------+\n",
      "|petalLength|petalWidth|sepalLength|sepalWidth|  species|\n",
      "+-----------+----------+-----------+----------+---------+\n",
      "|        5.9|       2.1|        7.1|       3.0|virginica|\n",
      "|        6.6|       2.1|        7.6|       3.0|virginica|\n",
      "|        6.3|       1.8|        7.3|       2.9|virginica|\n",
      "|        6.1|       2.5|        7.2|       3.6|virginica|\n",
      "|        6.7|       2.2|        7.7|       3.8|virginica|\n",
      "+-----------+----------+-----------+----------+---------+\n",
      "only showing top 5 rows\n",
      "\n"
     ]
    }
   ],
   "source": [
    "schema_7.where(schema_7.sepalLength > 7.0).show(5)"
   ]
  },
  {
   "cell_type": "code",
   "execution_count": 79,
   "id": "02c10604",
   "metadata": {},
   "outputs": [
    {
     "name": "stdout",
     "output_type": "stream",
     "text": [
      "+-----------+----------+-----------+----------+---------+\n",
      "|petalLength|petalWidth|sepalLength|sepalWidth|  species|\n",
      "+-----------+----------+-----------+----------+---------+\n",
      "|        6.3|       1.8|        7.3|       2.9|virginica|\n",
      "|        6.0|       1.8|        7.2|       3.2|virginica|\n",
      "|        5.8|       1.6|        7.2|       3.0|virginica|\n",
      "|        6.1|       1.9|        7.4|       2.8|virginica|\n",
      "+-----------+----------+-----------+----------+---------+\n",
      "\n"
     ]
    }
   ],
   "source": [
    "schema_7.where((schema_7.sepalLength > 7.0) & (schema_7.petalWidth < 2.0)).show(5)"
   ]
  },
  {
   "cell_type": "markdown",
   "id": "ccee7858",
   "metadata": {},
   "source": [
    "#### 2.13. Column string transformation"
   ]
  },
  {
   "cell_type": "code",
   "execution_count": 82,
   "id": "01eec536",
   "metadata": {},
   "outputs": [],
   "source": [
    "from pyspark.sql.functions import upper, lower"
   ]
  },
  {
   "cell_type": "code",
   "execution_count": 81,
   "id": "7f3b5a5d",
   "metadata": {},
   "outputs": [
    {
     "name": "stdout",
     "output_type": "stream",
     "text": [
      "+--------------+-----------+----------+\n",
      "|upper(species)|petalLength|petalWidth|\n",
      "+--------------+-----------+----------+\n",
      "|          null|       null|      null|\n",
      "|        SETOSA|        1.4|       0.2|\n",
      "|        SETOSA|        1.4|       0.2|\n",
      "|        SETOSA|        1.3|       0.2|\n",
      "|        SETOSA|        1.5|       0.2|\n",
      "+--------------+-----------+----------+\n",
      "only showing top 5 rows\n",
      "\n"
     ]
    }
   ],
   "source": [
    "schema_7.select([upper('species'), 'petalLength', 'petalWidth']).show(5)"
   ]
  },
  {
   "cell_type": "code",
   "execution_count": 86,
   "id": "fb78fef7",
   "metadata": {},
   "outputs": [
    {
     "name": "stdout",
     "output_type": "stream",
     "text": [
      "+-----------+----------+-----------+----------+-------+------+\n",
      "|petalLength|petalWidth|sepalLength|sepalWidth|species| upper|\n",
      "+-----------+----------+-----------+----------+-------+------+\n",
      "|       null|      null|       null|      null|   null|  null|\n",
      "|        1.4|       0.2|        5.1|       3.5| setosa|SETOSA|\n",
      "|        1.4|       0.2|        4.9|       3.0| setosa|SETOSA|\n",
      "|        1.3|       0.2|        4.7|       3.2| setosa|SETOSA|\n",
      "|        1.5|       0.2|        4.6|       3.1| setosa|SETOSA|\n",
      "+-----------+----------+-----------+----------+-------+------+\n",
      "only showing top 5 rows\n",
      "\n"
     ]
    }
   ],
   "source": [
    "schema_7.withColumn('upper', upper('species')).show(5)"
   ]
  },
  {
   "cell_type": "markdown",
   "id": "8b640a7c",
   "metadata": {},
   "source": [
    "#### 2.14. Convert data type"
   ]
  },
  {
   "cell_type": "markdown",
   "id": "61a2288a",
   "metadata": {},
   "source": [
    "data types in `pyspark.sql.types`."
   ]
  },
  {
   "cell_type": "code",
   "execution_count": 88,
   "id": "1ef6af94",
   "metadata": {},
   "outputs": [],
   "source": [
    "from pyspark.sql.types import IntegerType"
   ]
  },
  {
   "cell_type": "code",
   "execution_count": 90,
   "id": "cb12f75b",
   "metadata": {},
   "outputs": [
    {
     "name": "stdout",
     "output_type": "stream",
     "text": [
      "+-----------+----------+-----------+----------+-------+-------------------+\n",
      "|petalLength|petalWidth|sepalLength|sepalWidth|species|interger_sepalWidth|\n",
      "+-----------+----------+-----------+----------+-------+-------------------+\n",
      "|       null|      null|       null|      null|   null|               null|\n",
      "|        1.4|       0.2|        5.1|       3.5| setosa|                  3|\n",
      "|        1.4|       0.2|        4.9|       3.0| setosa|                  3|\n",
      "|        1.3|       0.2|        4.7|       3.2| setosa|                  3|\n",
      "|        1.5|       0.2|        4.6|       3.1| setosa|                  3|\n",
      "+-----------+----------+-----------+----------+-------+-------------------+\n",
      "only showing top 5 rows\n",
      "\n"
     ]
    }
   ],
   "source": [
    "schema_7.withColumn('interger_sepalWidth', schema_7.sepalWidth.cast(IntegerType())).show(5)"
   ]
  },
  {
   "cell_type": "code",
   "execution_count": 91,
   "id": "08851bdb",
   "metadata": {},
   "outputs": [
    {
     "name": "stdout",
     "output_type": "stream",
     "text": [
      "+----------+------------------+---------+---------+------------------+--------+------------------+\n",
      "|      Date|              Open|     High|      Low|             Close|  Volume|         Adj Close|\n",
      "+----------+------------------+---------+---------+------------------+--------+------------------+\n",
      "|2012-01-03|         59.970001|61.060001|59.869999|         60.330002|12668800|52.619234999999996|\n",
      "|2012-01-04|60.209998999999996|60.349998|59.470001|59.709998999999996| 9593300|         52.078475|\n",
      "|2012-01-05|         59.349998|59.619999|58.369999|         59.419998|12768200|         51.825539|\n",
      "|2012-01-06|         59.419998|59.450001|58.869999|              59.0| 8069400|          51.45922|\n",
      "|2012-01-09|         59.029999|59.549999|58.919998|             59.18| 6679300|51.616215000000004|\n",
      "+----------+------------------+---------+---------+------------------+--------+------------------+\n",
      "only showing top 5 rows\n",
      "\n"
     ]
    }
   ],
   "source": [
    "csv_file_path = os.path.join('..', 'src-data', 'walmart_stock.csv')\n",
    "schema_8 = spark.read.option('header', True).csv(csv_file_path)\n",
    "schema_8.show(5)"
   ]
  },
  {
   "cell_type": "markdown",
   "id": "395f1d0a",
   "metadata": {},
   "source": [
    "use `substring` to process string. read [here](https://spark.apache.org/docs/latest/api/python/reference/api/pyspark.sql.functions.substring.html)"
   ]
  },
  {
   "cell_type": "code",
   "execution_count": 92,
   "id": "4457f352",
   "metadata": {},
   "outputs": [
    {
     "name": "stdout",
     "output_type": "stream",
     "text": [
      "+----------+------------------+---------+---------+------------------+--------+------------------+----+\n",
      "|      Date|              Open|     High|      Low|             Close|  Volume|         Adj Close|year|\n",
      "+----------+------------------+---------+---------+------------------+--------+------------------+----+\n",
      "|2012-01-03|         59.970001|61.060001|59.869999|         60.330002|12668800|52.619234999999996|2012|\n",
      "|2012-01-04|60.209998999999996|60.349998|59.470001|59.709998999999996| 9593300|         52.078475|2012|\n",
      "|2012-01-05|         59.349998|59.619999|58.369999|         59.419998|12768200|         51.825539|2012|\n",
      "|2012-01-06|         59.419998|59.450001|58.869999|              59.0| 8069400|          51.45922|2012|\n",
      "|2012-01-09|         59.029999|59.549999|58.919998|             59.18| 6679300|51.616215000000004|2012|\n",
      "+----------+------------------+---------+---------+------------------+--------+------------------+----+\n",
      "only showing top 5 rows\n",
      "\n"
     ]
    }
   ],
   "source": [
    "from pyspark.sql.functions import substring\n",
    "schema_8.withColumn('year', substring('Date', pos = 0, len = 4).cast(IntegerType())).show(5)"
   ]
  },
  {
   "cell_type": "markdown",
   "id": "b5c3d862",
   "metadata": {},
   "source": [
    "### 3. Conditional clause"
   ]
  },
  {
   "cell_type": "markdown",
   "id": "c6b9e00b",
   "metadata": {},
   "source": [
    "#### 3.1. `when(<if condition>, <then>)`"
   ]
  },
  {
   "cell_type": "code",
   "execution_count": 93,
   "id": "669709eb",
   "metadata": {},
   "outputs": [],
   "source": [
    "from pyspark.sql.functions import when"
   ]
  },
  {
   "cell_type": "code",
   "execution_count": 97,
   "id": "7cdf5220",
   "metadata": {},
   "outputs": [
    {
     "name": "stdout",
     "output_type": "stream",
     "text": [
      "+----------+--------------------------------------------+\n",
      "|sepalWidth|CASE WHEN (sepalWidth <= 3.0) THEN short END|\n",
      "+----------+--------------------------------------------+\n",
      "|      null|                                        null|\n",
      "|       3.5|                                        null|\n",
      "|       3.0|                                       short|\n",
      "|       3.2|                                        null|\n",
      "|       3.1|                                        null|\n",
      "+----------+--------------------------------------------+\n",
      "only showing top 5 rows\n",
      "\n"
     ]
    }
   ],
   "source": [
    "schema_7.select('sepalWidth', when(schema_7.sepalWidth <= 3.0, 'short')).show(5)"
   ]
  },
  {
   "cell_type": "markdown",
   "id": "484000de",
   "metadata": {},
   "source": [
    "#### 3.2. Multiple `when()`"
   ]
  },
  {
   "cell_type": "code",
   "execution_count": 98,
   "id": "99168a54",
   "metadata": {},
   "outputs": [
    {
     "name": "stdout",
     "output_type": "stream",
     "text": [
      "+----------+---------------------------------------------------------------------------------+\n",
      "|sepalWidth|CASE WHEN (sepalWidth <= 3.0) THEN short WHEN (sepalWidth <= 3.3) THEN medium END|\n",
      "+----------+---------------------------------------------------------------------------------+\n",
      "|      null|                                                                             null|\n",
      "|       3.5|                                                                             null|\n",
      "|       3.0|                                                                            short|\n",
      "|       3.2|                                                                           medium|\n",
      "|       3.1|                                                                           medium|\n",
      "+----------+---------------------------------------------------------------------------------+\n",
      "only showing top 5 rows\n",
      "\n"
     ]
    }
   ],
   "source": [
    "schema_7.select('sepalWidth', when(schema_7.sepalWidth <= 3.0, 'short')\n",
    "                .when(schema_7.sepalWidth <= 3.3, 'medium')).show(5)"
   ]
  },
  {
   "cell_type": "markdown",
   "id": "6a98bd59",
   "metadata": {},
   "source": [
    "#### 3.3. `otherwise()`"
   ]
  },
  {
   "cell_type": "code",
   "execution_count": 99,
   "id": "67b50c36",
   "metadata": {},
   "outputs": [
    {
     "name": "stdout",
     "output_type": "stream",
     "text": [
      "+----------+-------------------------------------------------------------------------------------------+\n",
      "|sepalWidth|CASE WHEN (sepalWidth <= 3.0) THEN short WHEN (sepalWidth <= 3.3) THEN medium ELSE long END|\n",
      "+----------+-------------------------------------------------------------------------------------------+\n",
      "|      null|                                                                                       long|\n",
      "|       3.5|                                                                                       long|\n",
      "|       3.0|                                                                                      short|\n",
      "|       3.2|                                                                                     medium|\n",
      "|       3.1|                                                                                     medium|\n",
      "+----------+-------------------------------------------------------------------------------------------+\n",
      "only showing top 5 rows\n",
      "\n"
     ]
    }
   ],
   "source": [
    "schema_7.select('sepalWidth', when(schema_7.sepalWidth <= 3.0, 'short')\n",
    "                .when(schema_7.sepalWidth <= 3.3, 'medium')\n",
    "                .otherwise('long')).show(5)"
   ]
  },
  {
   "cell_type": "markdown",
   "id": "deb9a8c9",
   "metadata": {},
   "source": [
    "#### 3.4. User Defined Function"
   ]
  },
  {
   "cell_type": "markdown",
   "id": "f2d64154",
   "metadata": {},
   "source": [
    "In PySpark, the function of python is escaptulated in `pyspark.sql.function.udf`. Click [here](https://spark.apache.org/docs/3.1.1/api/python/reference/api/pyspark.sql.functions.udf.html)"
   ]
  },
  {
   "cell_type": "code",
   "execution_count": 102,
   "id": "bdf6b4ce",
   "metadata": {},
   "outputs": [],
   "source": [
    "from pyspark.sql.functions import udf\n",
    "from pyspark.sql.types import StringType"
   ]
  },
  {
   "cell_type": "code",
   "execution_count": 101,
   "id": "49b630a9",
   "metadata": {},
   "outputs": [],
   "source": [
    "def classify_width(width):\n",
    "    width_type = None\n",
    "    if width <= 3.0:\n",
    "        width_type = 'short'\n",
    "    elif width <= 3.3:\n",
    "        width_type = 'medium'\n",
    "    else:\n",
    "        width_type = 'long'\n",
    "    \n",
    "    return width_type"
   ]
  },
  {
   "cell_type": "code",
   "execution_count": 103,
   "id": "36e131bf",
   "metadata": {},
   "outputs": [],
   "source": [
    "udf_classify_width = udf(classify_width, StringType())"
   ]
  },
  {
   "cell_type": "code",
   "execution_count": 107,
   "id": "470bb27f",
   "metadata": {},
   "outputs": [],
   "source": [
    "schema_9 = schema_7.dropna() # drop the row which null"
   ]
  },
  {
   "cell_type": "code",
   "execution_count": 108,
   "id": "d7ff4e26",
   "metadata": {},
   "outputs": [
    {
     "name": "stdout",
     "output_type": "stream",
     "text": [
      "+-----------+----------+-----------+----------+-------+--------------+\n",
      "|petalLength|petalWidth|sepalLength|sepalWidth|species|classify_width|\n",
      "+-----------+----------+-----------+----------+-------+--------------+\n",
      "|        1.4|       0.2|        5.1|       3.5| setosa|          long|\n",
      "|        1.4|       0.2|        4.9|       3.0| setosa|         short|\n",
      "|        1.3|       0.2|        4.7|       3.2| setosa|        medium|\n",
      "|        1.5|       0.2|        4.6|       3.1| setosa|        medium|\n",
      "|        1.4|       0.2|        5.0|       3.6| setosa|          long|\n",
      "+-----------+----------+-----------+----------+-------+--------------+\n",
      "only showing top 5 rows\n",
      "\n"
     ]
    }
   ],
   "source": [
    "schema_9.withColumn('classify_width', udf_classify_width(schema_7.sepalWidth)).show(5)"
   ]
  },
  {
   "cell_type": "markdown",
   "id": "7c5f1a55",
   "metadata": {},
   "source": [
    "### 4. Visualize data"
   ]
  },
  {
   "cell_type": "markdown",
   "id": "0b975f3f",
   "metadata": {},
   "source": [
    "- Convert pyspark DataFrame to `Pandas`.\n",
    "- Apply common packages as `matplotlib` and `seaborn`."
   ]
  }
 ],
 "metadata": {
  "interpreter": {
   "hash": "9e8b2dc75a532c1b8be16e00f9f13abc240a1ac4ad83b862d6ae36ef062a2a95"
  },
  "kernelspec": {
   "display_name": "Python 3.8.13 ('pyspark')",
   "language": "python",
   "name": "python3"
  },
  "language_info": {
   "codemirror_mode": {
    "name": "ipython",
    "version": 3
   },
   "file_extension": ".py",
   "mimetype": "text/x-python",
   "name": "python",
   "nbconvert_exporter": "python",
   "pygments_lexer": "ipython3",
   "version": "3.8.13"
  }
 },
 "nbformat": 4,
 "nbformat_minor": 5
}
