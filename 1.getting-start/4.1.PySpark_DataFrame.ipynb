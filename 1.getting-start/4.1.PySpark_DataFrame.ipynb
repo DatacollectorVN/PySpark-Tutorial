{
 "cells": [
  {
   "cell_type": "code",
   "execution_count": 1,
   "id": "d20ba949",
   "metadata": {},
   "outputs": [],
   "source": [
    "from pyspark import SparkContext\n",
    "from pyspark.sql import Row, SQLContext\n",
    "import os"
   ]
  },
  {
   "cell_type": "code",
   "execution_count": 2,
   "id": "60ecc9ff",
   "metadata": {},
   "outputs": [
    {
     "name": "stderr",
     "output_type": "stream",
     "text": [
      "22/05/07 22:33:11 WARN Utils: Your hostname, Nathans-MacBook-Pro.local resolves to a loopback address: 127.0.0.1; using 192.168.1.2 instead (on interface en0)\n",
      "22/05/07 22:33:11 WARN Utils: Set SPARK_LOCAL_IP if you need to bind to another address\n",
      "WARNING: An illegal reflective access operation has occurred\n",
      "WARNING: Illegal reflective access by org.apache.spark.unsafe.Platform (file:/opt/homebrew/Cellar/apache-spark/3.2.1/libexec/jars/spark-unsafe_2.12-3.2.1.jar) to constructor java.nio.DirectByteBuffer(long,int)\n",
      "WARNING: Please consider reporting this to the maintainers of org.apache.spark.unsafe.Platform\n",
      "WARNING: Use --illegal-access=warn to enable warnings of further illegal reflective access operations\n",
      "WARNING: All illegal access operations will be denied in a future release\n",
      "Using Spark's default log4j profile: org/apache/spark/log4j-defaults.properties\n",
      "Setting default log level to \"WARN\".\n",
      "To adjust logging level use sc.setLogLevel(newLevel). For SparkR, use setLogLevel(newLevel).\n",
      "22/05/07 22:33:11 WARN NativeCodeLoader: Unable to load native-hadoop library for your platform... using builtin-java classes where applicable\n"
     ]
    }
   ],
   "source": [
    "sc = SparkContext()"
   ]
  },
  {
   "cell_type": "code",
   "execution_count": 5,
   "id": "7b5245dd",
   "metadata": {},
   "outputs": [
    {
     "name": "stderr",
     "output_type": "stream",
     "text": [
      "/Users/nathanngo/miniconda3/envs/pyspark/lib/python3.8/site-packages/pyspark/sql/context.py:77: FutureWarning: Deprecated in 3.0.0. Use SparkSession.builder.getOrCreate() instead.\n",
      "  warnings.warn(\n"
     ]
    }
   ],
   "source": [
    "sqlContext = SQLContext(sc)"
   ]
  },
  {
   "cell_type": "markdown",
   "id": "3a2619cd",
   "metadata": {},
   "source": [
    "### 1. Create DataFrame"
   ]
  },
  {
   "cell_type": "markdown",
   "id": "61e62df1",
   "metadata": {},
   "source": [
    "#### 1.1. Create DataFrame from RDD"
   ]
  },
  {
   "cell_type": "code",
   "execution_count": 3,
   "id": "3e4d636f",
   "metadata": {},
   "outputs": [],
   "source": [
    "lst_1 = [('Jisoo', 27), ('Jennie', 26), ('Rose', 24), ('Lisa', 24)]\n",
    "RDD_1 = sc.parallelize(lst_1)\n",
    "pair_RDD_1 = RDD_1.map(lambda x: Row(name = x[0], marks = x[1]))"
   ]
  },
  {
   "cell_type": "code",
   "execution_count": 4,
   "id": "6f20f3de",
   "metadata": {},
   "outputs": [
    {
     "data": {
      "text/plain": [
       "[Row(name='Jisoo', marks=27),\n",
       " Row(name='Jennie', marks=26),\n",
       " Row(name='Rose', marks=24),\n",
       " Row(name='Lisa', marks=24)]"
      ]
     },
     "execution_count": 4,
     "metadata": {},
     "output_type": "execute_result"
    }
   ],
   "source": [
    "pair_RDD.collect()"
   ]
  },
  {
   "cell_type": "code",
   "execution_count": 6,
   "id": "cf498794",
   "metadata": {},
   "outputs": [
    {
     "data": {
      "text/plain": [
       "DataFrame[name: string, marks: bigint]"
      ]
     },
     "execution_count": 6,
     "metadata": {},
     "output_type": "execute_result"
    }
   ],
   "source": [
    "schema_1 = sqlContext.createDataFrame(pair_RDD)\n",
    "schema_1"
   ]
  },
  {
   "cell_type": "code",
   "execution_count": 7,
   "id": "694df5f4",
   "metadata": {},
   "outputs": [
    {
     "data": {
      "text/plain": [
       "pyspark.sql.dataframe.DataFrame"
      ]
     },
     "execution_count": 7,
     "metadata": {},
     "output_type": "execute_result"
    }
   ],
   "source": [
    "type(schema_1)"
   ]
  },
  {
   "cell_type": "code",
   "execution_count": 8,
   "id": "f445fa07",
   "metadata": {},
   "outputs": [
    {
     "name": "stdout",
     "output_type": "stream",
     "text": [
      "+------+-----+\n",
      "|  name|marks|\n",
      "+------+-----+\n",
      "| Jisoo|   27|\n",
      "|Jennie|   26|\n",
      "|  Rose|   24|\n",
      "|  Lisa|   24|\n",
      "+------+-----+\n",
      "\n"
     ]
    }
   ],
   "source": [
    "schema_1.show()"
   ]
  },
  {
   "cell_type": "code",
   "execution_count": null,
   "id": "7b6ee5f9",
   "metadata": {},
   "outputs": [],
   "source": []
  }
 ],
 "metadata": {
  "kernelspec": {
   "display_name": "Python 3 (ipykernel)",
   "language": "python",
   "name": "python3"
  },
  "language_info": {
   "codemirror_mode": {
    "name": "ipython",
    "version": 3
   },
   "file_extension": ".py",
   "mimetype": "text/x-python",
   "name": "python",
   "nbconvert_exporter": "python",
   "pygments_lexer": "ipython3",
   "version": "3.8.13"
  }
 },
 "nbformat": 4,
 "nbformat_minor": 5
}
