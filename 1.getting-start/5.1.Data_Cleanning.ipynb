{
 "cells": [
  {
   "cell_type": "code",
   "execution_count": 1,
   "metadata": {},
   "outputs": [],
   "source": [
    "from pyspark import SparkContext\n",
    "from pyspark.sql import Row, SQLContext, SparkSession\n",
    "import os"
   ]
  },
  {
   "cell_type": "code",
   "execution_count": 2,
   "metadata": {},
   "outputs": [],
   "source": [
    "import warnings\n",
    "warnings.filterwarnings(\"ignore\")"
   ]
  },
  {
   "cell_type": "code",
   "execution_count": 3,
   "metadata": {},
   "outputs": [
    {
     "name": "stderr",
     "output_type": "stream",
     "text": [
      "WARNING: An illegal reflective access operation has occurred\n",
      "WARNING: Illegal reflective access by org.apache.spark.unsafe.Platform (file:/opt/homebrew/Cellar/apache-spark/3.2.1/libexec/jars/spark-unsafe_2.12-3.2.1.jar) to constructor java.nio.DirectByteBuffer(long,int)\n",
      "WARNING: Please consider reporting this to the maintainers of org.apache.spark.unsafe.Platform\n",
      "WARNING: Use --illegal-access=warn to enable warnings of further illegal reflective access operations\n",
      "WARNING: All illegal access operations will be denied in a future release\n",
      "Using Spark's default log4j profile: org/apache/spark/log4j-defaults.properties\n",
      "Setting default log level to \"WARN\".\n",
      "To adjust logging level use sc.setLogLevel(newLevel). For SparkR, use setLogLevel(newLevel).\n",
      "22/05/09 10:41:04 WARN NativeCodeLoader: Unable to load native-hadoop library for your platform... using builtin-java classes where applicable\n"
     ]
    }
   ],
   "source": [
    "sc = SparkContext()"
   ]
  },
  {
   "cell_type": "code",
   "execution_count": 4,
   "metadata": {},
   "outputs": [],
   "source": [
    "spark = SparkSession(sc)"
   ]
  },
  {
   "cell_type": "code",
   "execution_count": 7,
   "metadata": {},
   "outputs": [
    {
     "name": "stdout",
     "output_type": "stream",
     "text": [
      "root\n",
      " |-- No: integer (nullable = true)\n",
      " |-- MLSID: string (nullable = true)\n",
      " |-- StreetNumberNumeric: integer (nullable = true)\n",
      " |-- streetaddress: string (nullable = true)\n",
      " |-- STREETNAME: string (nullable = true)\n",
      " |-- PostalCode: integer (nullable = true)\n",
      " |-- StateOrProvince: string (nullable = true)\n",
      " |-- City: string (nullable = true)\n",
      " |-- SalesClosePrice: integer (nullable = true)\n",
      " |-- LISTDATE: string (nullable = true)\n",
      " |-- LISTPRICE: integer (nullable = true)\n",
      " |-- LISTTYPE: string (nullable = true)\n",
      " |-- OriginalListPrice: integer (nullable = true)\n",
      " |-- PricePerTSFT: double (nullable = true)\n",
      " |-- FOUNDATIONSIZE: integer (nullable = true)\n",
      " |-- FENCE: string (nullable = true)\n",
      " |-- MapLetter: string (nullable = true)\n",
      " |-- LotSizeDimensions: string (nullable = true)\n",
      " |-- SchoolDistrictNumber: string (nullable = true)\n",
      " |-- DAYSONMARKET: integer (nullable = true)\n",
      " |-- offmarketdate: string (nullable = true)\n",
      " |-- Fireplaces: integer (nullable = true)\n",
      " |-- RoomArea4: string (nullable = true)\n",
      " |-- roomtype: string (nullable = true)\n",
      " |-- ROOF: string (nullable = true)\n",
      " |-- RoomFloor4: string (nullable = true)\n",
      " |-- PotentialShortSale: string (nullable = true)\n",
      " |-- PoolDescription: string (nullable = true)\n",
      " |-- PDOM: integer (nullable = true)\n",
      " |-- GarageDescription: string (nullable = true)\n",
      " |-- SQFTABOVEGROUND: integer (nullable = true)\n",
      " |-- Taxes: integer (nullable = true)\n",
      " |-- RoomFloor1: string (nullable = true)\n",
      " |-- RoomArea1: string (nullable = true)\n",
      " |-- TAXWITHASSESSMENTS: double (nullable = true)\n",
      " |-- TAXYEAR: integer (nullable = true)\n",
      " |-- LivingArea: integer (nullable = true)\n",
      " |-- UNITNUMBER: string (nullable = true)\n",
      " |-- YEARBUILT: integer (nullable = true)\n",
      " |-- ZONING: string (nullable = true)\n",
      " |-- STYLE: string (nullable = true)\n",
      " |-- ACRES: double (nullable = true)\n",
      " |-- CoolingDescription: string (nullable = true)\n",
      " |-- APPLIANCES: string (nullable = true)\n",
      " |-- backonmarketdate: string (nullable = true)\n",
      " |-- ROOMFAMILYCHAR: string (nullable = true)\n",
      " |-- RoomArea3: string (nullable = true)\n",
      " |-- EXTERIOR: string (nullable = true)\n",
      " |-- RoomFloor3: string (nullable = true)\n",
      " |-- RoomFloor2: string (nullable = true)\n",
      " |-- RoomArea2: string (nullable = true)\n",
      " |-- DiningRoomDescription: string (nullable = true)\n",
      " |-- BASEMENT: string (nullable = true)\n",
      " |-- BathsFull: integer (nullable = true)\n",
      " |-- BathsHalf: integer (nullable = true)\n",
      " |-- BATHQUARTER: integer (nullable = true)\n",
      " |-- BATHSTHREEQUARTER: integer (nullable = true)\n",
      " |-- Class: string (nullable = true)\n",
      " |-- BATHSTOTAL: integer (nullable = true)\n",
      " |-- BATHDESC: string (nullable = true)\n",
      " |-- RoomArea5: string (nullable = true)\n",
      " |-- RoomFloor5: string (nullable = true)\n",
      " |-- RoomArea6: string (nullable = true)\n",
      " |-- RoomFloor6: string (nullable = true)\n",
      " |-- RoomArea7: string (nullable = true)\n",
      " |-- RoomFloor7: string (nullable = true)\n",
      " |-- RoomArea8: string (nullable = true)\n",
      " |-- RoomFloor8: string (nullable = true)\n",
      " |-- Bedrooms: integer (nullable = true)\n",
      " |-- SQFTBELOWGROUND: integer (nullable = true)\n",
      " |-- AssumableMortgage: string (nullable = true)\n",
      " |-- AssociationFee: integer (nullable = true)\n",
      " |-- ASSESSMENTPENDING: string (nullable = true)\n",
      " |-- AssessedValuation: double (nullable = true)\n",
      "\n"
     ]
    }
   ],
   "source": [
    "file_path = os.path.join('..', 'src-data', '2017_StPaul_MN_Real_Estate.csv')\n",
    "df = spark.read.csv(file_path, header = True, inferSchema = True)\n",
    "df.printSchema()"
   ]
  },
  {
   "cell_type": "code",
   "execution_count": 14,
   "metadata": {},
   "outputs": [],
   "source": [
    "df_sub = df.select('STREETNUMBERNUMERIC', 'FIREPLACES', \n",
    "                   'LOTSIZEDIMENSIONS', 'LISTTYPE', 'ACRES', \n",
    "                   'ASSUMABLEMORTGAGE', 'SalesClosePrice', 'ListPrice',\n",
    "                   'DAYSONMARKET', 'YEARBUILT')"
   ]
  },
  {
   "cell_type": "markdown",
   "metadata": {},
   "source": [
    "### Data cleaning"
   ]
  },
  {
   "cell_type": "markdown",
   "metadata": {},
   "source": [
    "#### 1. Delete some irrevalent feature\n",
    "use `drop` method"
   ]
  },
  {
   "cell_type": "code",
   "execution_count": 15,
   "metadata": {},
   "outputs": [
    {
     "name": "stdout",
     "output_type": "stream",
     "text": [
      "number of columns: 10\n"
     ]
    }
   ],
   "source": [
    "# number of coluumn\n",
    "print(f\"number of columns: {len(df_sub.columns)}\")"
   ]
  },
  {
   "cell_type": "code",
   "execution_count": 16,
   "metadata": {},
   "outputs": [
    {
     "name": "stdout",
     "output_type": "stream",
     "text": [
      "number of column after drop: 8\n"
     ]
    }
   ],
   "source": [
    "print(f\"number of column after drop: {len(df_sub.drop(*['STREETNUMBERNUMERIC', 'LOTSIZEDIMENSIONS']).columns)}\")"
   ]
  },
  {
   "cell_type": "markdown",
   "metadata": {},
   "source": [
    "#### 2. Text filter\n",
    "- `where(condtion)`\n",
    "- `filter(condition)`\n",
    "- `like()`\n",
    "- `~`"
   ]
  },
  {
   "cell_type": "code",
   "execution_count": 20,
   "metadata": {},
   "outputs": [
    {
     "name": "stdout",
     "output_type": "stream",
     "text": [
      "+-------------------+\n",
      "|  ASSUMABLEMORTGAGE|\n",
      "+-------------------+\n",
      "|  Yes w/ Qualifying|\n",
      "| Information Coming|\n",
      "|               null|\n",
      "|Yes w/No Qualifying|\n",
      "|      Not Assumable|\n",
      "+-------------------+\n",
      "\n"
     ]
    }
   ],
   "source": [
    "df_sub.select('ASSUMABLEMORTGAGE').distinct().show()"
   ]
  },
  {
   "cell_type": "markdown",
   "metadata": {},
   "source": [
    "remove or contain row with contain 'Yes w/ Qualifying', 'Yes w/No Qualifying' and null value.\n",
    "\n",
    "Use `~` and  `.isin(list)`"
   ]
  },
  {
   "cell_type": "code",
   "execution_count": 21,
   "metadata": {},
   "outputs": [],
   "source": [
    "lst = ['Yes w/ Qualifying', 'Yes w/No Qualifying|']\n",
    "text_filter_1 = df_sub[\"ASSUMABLEMORTGAGE\"].isin(lst)"
   ]
  },
  {
   "cell_type": "code",
   "execution_count": 23,
   "metadata": {},
   "outputs": [
    {
     "data": {
      "text/plain": [
       "21"
      ]
     },
     "execution_count": 23,
     "metadata": {},
     "output_type": "execute_result"
    }
   ],
   "source": [
    "df_sub_filter_1 = df_sub.where(text_filter_1)\n",
    "df_sub_filter_1.count()"
   ]
  },
  {
   "cell_type": "code",
   "execution_count": 24,
   "metadata": {},
   "outputs": [
    {
     "name": "stdout",
     "output_type": "stream",
     "text": [
      "+-------------------+----------+-----------------+---------------+-----+-----------------+---------------+---------+------------+---------+\n",
      "|STREETNUMBERNUMERIC|FIREPLACES|LOTSIZEDIMENSIONS|       LISTTYPE|ACRES|ASSUMABLEMORTGAGE|SalesClosePrice|ListPrice|DAYSONMARKET|YEARBUILT|\n",
      "+-------------------+----------+-----------------+---------------+-----+-----------------+---------------+---------+------------+---------+\n",
      "|               6044|         0|           80x150|Exclusive Right|0.276|Yes w/ Qualifying|         215000|   210000|          18|     1955|\n",
      "|               1019|         0|           30x102|Exclusive Right| 0.07|Yes w/ Qualifying|         175000|   165000|           3|     1912|\n",
      "|               2049|         0|           Common|Exclusive Right|  0.0|Yes w/ Qualifying|         174000|   174900|          60|     1949|\n",
      "|                989|         0|           40x122|Exclusive Right| 0.11|Yes w/ Qualifying|         178400|   175000|          21|     1920|\n",
      "|               1892|         0|           40x124|Exclusive Right| 0.11|Yes w/ Qualifying|         186000|   179900|          14|     1921|\n",
      "+-------------------+----------+-----------------+---------------+-----+-----------------+---------------+---------+------------+---------+\n",
      "only showing top 5 rows\n",
      "\n"
     ]
    }
   ],
   "source": [
    "df_sub_filter_1.show(5)"
   ]
  },
  {
   "cell_type": "code",
   "execution_count": 35,
   "metadata": {},
   "outputs": [],
   "source": [
    "text_filter_2 = ~ (df_sub[\"ASSUMABLEMORTGAGE\"].isin(lst)) | df_sub[\"ASSUMABLEMORTGAGE\"].isNull()"
   ]
  },
  {
   "cell_type": "code",
   "execution_count": 36,
   "metadata": {},
   "outputs": [
    {
     "data": {
      "text/plain": [
       "4979"
      ]
     },
     "execution_count": 36,
     "metadata": {},
     "output_type": "execute_result"
    }
   ],
   "source": [
    "df_sub_filter_2 = df_sub.where(text_filter_2)\n",
    "df_sub_filter_2.count()"
   ]
  },
  {
   "cell_type": "code",
   "execution_count": 37,
   "metadata": {},
   "outputs": [
    {
     "name": "stdout",
     "output_type": "stream",
     "text": [
      "+-------------------+----------+-----------------+---------------+-----+-----------------+---------------+---------+------------+---------+\n",
      "|STREETNUMBERNUMERIC|FIREPLACES|LOTSIZEDIMENSIONS|       LISTTYPE|ACRES|ASSUMABLEMORTGAGE|SalesClosePrice|ListPrice|DAYSONMARKET|YEARBUILT|\n",
      "+-------------------+----------+-----------------+---------------+-----+-----------------+---------------+---------+------------+---------+\n",
      "|              11511|         0|          279X200|Exclusive Right| 1.28|             null|         143000|   139900|          10|     1950|\n",
      "|              11200|         0|          100x140|Exclusive Right| 0.32|             null|         190000|   210000|           4|     1971|\n",
      "|               8583|         0|          120x296|Exclusive Right|0.822|    Not Assumable|         225000|   225000|          28|     1949|\n",
      "|               9350|         1|          208X208|Exclusive Right| 0.94|             null|         265000|   230000|          19|     1960|\n",
      "|               2915|         1|          116x200|Exclusive Right|  0.0|             null|         249900|   239900|          21|     1978|\n",
      "+-------------------+----------+-----------------+---------------+-----+-----------------+---------------+---------+------------+---------+\n",
      "only showing top 5 rows\n",
      "\n"
     ]
    }
   ],
   "source": [
    "df_sub_filter_2.show(5)"
   ]
  },
  {
   "cell_type": "markdown",
   "metadata": {},
   "source": [
    "#### 3. Remove outliers according to Gaussian distribution"
   ]
  },
  {
   "cell_type": "markdown",
   "metadata": {},
   "source": [
    "req: remove outlier in 'SalesClosePrice'"
   ]
  },
  {
   "cell_type": "code",
   "execution_count": 43,
   "metadata": {},
   "outputs": [],
   "source": [
    "import pyspark.sql.functions as F\n",
    "import matplotlib.pyplot as plt\n",
    "import seaborn as sns"
   ]
  },
  {
   "cell_type": "markdown",
   "metadata": {},
   "source": [
    "**first step**: apply some function to convert Gaussian distribution. read [here](https://towardsdatascience.com/top-3-methods-for-handling-skewed-data-1334e0debf45)"
   ]
  },
  {
   "cell_type": "markdown",
   "metadata": {},
   "source": [
    "In that case the 'SalesClosePrice' is right skewed distribution, so apply `log scale` method."
   ]
  },
  {
   "cell_type": "code",
   "execution_count": 40,
   "metadata": {},
   "outputs": [],
   "source": [
    "df_sub = df_sub.withColumn(\"log_SalesClosePrice\", F.log(F.col(\"SalesClosePrice\")))"
   ]
  },
  {
   "cell_type": "code",
   "execution_count": 45,
   "metadata": {},
   "outputs": [],
   "source": [
    "df_pandas = df_sub.toPandas()"
   ]
  },
  {
   "cell_type": "code",
   "execution_count": 46,
   "metadata": {},
   "outputs": [
    {
     "data": {
      "image/png": "[encoded data removed]",
      "text/plain": [
       "<Figure size 1440x720 with 1 Axes>"
      ]
     },
     "metadata": {
      "needs_background": "light"
     },
     "output_type": "display_data"
    }
   ],
   "source": [
    "plt.figure(figsize = (20,10))\n",
    "sns.distplot(df_pandas.SalesClosePrice)\n",
    "plt.show()"
   ]
  },
  {
   "cell_type": "code",
   "execution_count": 47,
   "metadata": {},
   "outputs": [
    {
     "data": {
      "image/png": "[encoded data removed]",
      "text/plain": [
       "<Figure size 1440x720 with 1 Axes>"
      ]
     },
     "metadata": {
      "needs_background": "light"
     },
     "output_type": "display_data"
    }
   ],
   "source": [
    "plt.figure(figsize = (20,10))\n",
    "sns.distplot(df_pandas.log_SalesClosePrice)\n",
    "plt.show()"
   ]
  },
  {
   "cell_type": "markdown",
   "metadata": {},
   "source": [
    "**Second step**: calculate the high bound and low bound in boxplot"
   ]
  },
  {
   "cell_type": "markdown",
   "metadata": {},
   "source": [
    "mean value"
   ]
  },
  {
   "cell_type": "code",
   "execution_count": 48,
   "metadata": {},
   "outputs": [
    {
     "data": {
      "text/plain": [
       "[Row(avg(log_SalesClosePrice)=12.369716258093085)]"
      ]
     },
     "execution_count": 48,
     "metadata": {},
     "output_type": "execute_result"
    }
   ],
   "source": [
    "df_sub.agg({'log_SalesClosePrice': \"mean\"}).collect()"
   ]
  },
  {
   "cell_type": "code",
   "execution_count": 49,
   "metadata": {},
   "outputs": [
    {
     "data": {
      "text/plain": [
       "12.369716258093085"
      ]
     },
     "execution_count": 49,
     "metadata": {},
     "output_type": "execute_result"
    }
   ],
   "source": [
    "# get value \n",
    "df_sub.agg({'log_SalesClosePrice': \"mean\"}).collect()[0][0]"
   ]
  },
  {
   "cell_type": "code",
   "execution_count": 50,
   "metadata": {},
   "outputs": [],
   "source": [
    "mean_val = df_sub.agg({'log_SalesClosePrice': \"mean\"}).collect()[0][0]"
   ]
  },
  {
   "cell_type": "markdown",
   "metadata": {},
   "source": [
    "std value"
   ]
  },
  {
   "cell_type": "code",
   "execution_count": 51,
   "metadata": {},
   "outputs": [],
   "source": [
    "std_value = df_sub.agg({'log_SalesClosePrice': 'stddev'}).collect()[0][0]"
   ]
  },
  {
   "cell_type": "markdown",
   "metadata": {},
   "source": [
    "low bound = mean - 3 * std\n",
    "\n",
    "high bound = mean + 3 * std"
   ]
  },
  {
   "cell_type": "code",
   "execution_count": 53,
   "metadata": {},
   "outputs": [],
   "source": [
    "low_bound = mean_val - (3 * std_value)\n",
    "hi_bound = mean_val + (3 * std_value)"
   ]
  },
  {
   "cell_type": "markdown",
   "metadata": {},
   "source": [
    "remove all values which are greater than high bound and smaller tahn low bound."
   ]
  },
  {
   "cell_type": "code",
   "execution_count": 54,
   "metadata": {},
   "outputs": [
    {
     "name": "stdout",
     "output_type": "stream",
     "text": [
      "Number row before: 5000\n"
     ]
    }
   ],
   "source": [
    "print(f'Number row before: {df_sub.count()}')"
   ]
  },
  {
   "cell_type": "code",
   "execution_count": 55,
   "metadata": {},
   "outputs": [],
   "source": [
    "df_sub = df_sub.where((df_sub[\"log_SalesClosePrice\"] < hi_bound)& \n",
    "                     (df_sub[\"log_SalesClosePrice\"] > low_bound))"
   ]
  },
  {
   "cell_type": "code",
   "execution_count": 56,
   "metadata": {},
   "outputs": [
    {
     "name": "stdout",
     "output_type": "stream",
     "text": [
      "Number row after: 4968\n"
     ]
    }
   ],
   "source": [
    "print(f'Number row after: {df_sub.count()}')"
   ]
  },
  {
   "cell_type": "markdown",
   "metadata": {},
   "source": [
    "#### 4. Remove data according to NA, NULL"
   ]
  },
  {
   "cell_type": "markdown",
   "metadata": {},
   "source": [
    "use `dropna` method. Read [here](https://spark.apache.org/docs/latest/api/python/reference/api/pyspark.sql.DataFrame.dropna.html)"
   ]
  },
  {
   "cell_type": "code",
   "execution_count": 65,
   "metadata": {},
   "outputs": [
    {
     "data": {
      "text/plain": [
       "4968"
      ]
     },
     "execution_count": 65,
     "metadata": {},
     "output_type": "execute_result"
    }
   ],
   "source": [
    "df_sub.count()"
   ]
  },
  {
   "cell_type": "code",
   "execution_count": 64,
   "metadata": {},
   "outputs": [
    {
     "data": {
      "text/plain": [
       "1886"
      ]
     },
     "execution_count": 64,
     "metadata": {},
     "output_type": "execute_result"
    }
   ],
   "source": [
    "df_sub.dropna().count()"
   ]
  },
  {
   "cell_type": "code",
   "execution_count": 66,
   "metadata": {},
   "outputs": [
    {
     "data": {
      "text/plain": [
       "4968"
      ]
     },
     "execution_count": 66,
     "metadata": {},
     "output_type": "execute_result"
    }
   ],
   "source": [
    "df_sub.dropna(thresh=1).count()"
   ]
  },
  {
   "cell_type": "markdown",
   "metadata": {},
   "source": [
    "#### 4. Remove data according to duplication"
   ]
  },
  {
   "cell_type": "markdown",
   "metadata": {},
   "source": [
    "use `drop_duplicates`"
   ]
  },
  {
   "cell_type": "code",
   "execution_count": 68,
   "metadata": {},
   "outputs": [
    {
     "data": {
      "text/plain": [
       "4968"
      ]
     },
     "execution_count": 68,
     "metadata": {},
     "output_type": "execute_result"
    }
   ],
   "source": [
    "df_sub.drop_duplicates().count() # mean don't have duplication"
   ]
  },
  {
   "cell_type": "markdown",
   "metadata": {},
   "source": [
    "#### 5. Min-Max Scaling"
   ]
  },
  {
   "cell_type": "markdown",
   "metadata": {},
   "source": [
    "![plot](http://androidkt.com/wp-content/uploads/2020/10/Selection_060.png)"
   ]
  },
  {
   "cell_type": "code",
   "execution_count": 69,
   "metadata": {},
   "outputs": [],
   "source": [
    "def min_max_scaler(df, cols_to_scale):\n",
    "    # Takes a dataframe and list of columns to minmax scale. Returns a dataframe.\n",
    "    for col in cols_to_scale:\n",
    "        # Define min and max values and collect them\n",
    "        max_values = df.agg({col: 'max'}).collect()[0][0]\n",
    "        min_values = df.agg({col: 'min'}).collect()[0][0]\n",
    "        new_column_name = 'scaled_' + col\n",
    "        # Create a new column based off the scaled data\n",
    "        df = df.withColumn(new_column_name, \n",
    "                      (df[col] - min_values) / (max_values - min_values))\n",
    "    return df"
   ]
  },
  {
   "cell_type": "code",
   "execution_count": 73,
   "metadata": {},
   "outputs": [],
   "source": [
    "df_new = min_max_scaler(df_sub, ['SalesClosePrice', 'ACRES'])"
   ]
  },
  {
   "cell_type": "code",
   "execution_count": 74,
   "metadata": {},
   "outputs": [
    {
     "name": "stdout",
     "output_type": "stream",
     "text": [
      "+-------------------+----------+-----------------+---------------+-----+-----------------+---------------+---------+------------+---------+-------------------+----------------------+------------------+\n",
      "|STREETNUMBERNUMERIC|FIREPLACES|LOTSIZEDIMENSIONS|       LISTTYPE|ACRES|ASSUMABLEMORTGAGE|SalesClosePrice|ListPrice|DAYSONMARKET|YEARBUILT|log_SalesClosePrice|scaled_SalesClosePrice|      scaled_ACRES|\n",
      "+-------------------+----------+-----------------+---------------+-----+-----------------+---------------+---------+------------+---------+-------------------+----------------------+------------------+\n",
      "|              11511|         0|          279X200|Exclusive Right| 1.28|             null|         143000|   139900|          10|     1950| 11.870599909242044|    0.0971563981042654|0.1351636747624076|\n",
      "|              11200|         0|          100x140|Exclusive Right| 0.32|             null|         190000|   210000|           4|     1971| 12.154779351142624|    0.1528436018957346|0.0337909186906019|\n",
      "+-------------------+----------+-----------------+---------------+-----+-----------------+---------------+---------+------------+---------+-------------------+----------------------+------------------+\n",
      "only showing top 2 rows\n",
      "\n"
     ]
    }
   ],
   "source": [
    "df_new.show(2)"
   ]
  },
  {
   "cell_type": "markdown",
   "metadata": {},
   "source": [
    "#### 6. Standard Scaling"
   ]
  },
  {
   "cell_type": "markdown",
   "metadata": {},
   "source": [
    "![plot](https://miro.medium.com/max/660/1*qXXqcZXhSTgw9tVhx7zNNw.gif)"
   ]
  },
  {
   "cell_type": "code",
   "execution_count": 75,
   "metadata": {},
   "outputs": [],
   "source": [
    "def standard_scaler(df, cols_to_scale):\n",
    "    # Takes a dataframe and list of columns to minmax scale. Returns a dataframe.\n",
    "    for col in cols_to_scale:\n",
    "        mean_val = df_sub.agg({\"SalesClosePrice\": \"mean\"}).collect()[0][0]\n",
    "        stddev_val = df_sub.agg({\"SalesClosePrice\": \"stddev\"}).collect()[0][0]\n",
    "        new_column_name = 'Standard' + col\n",
    "        # Create a new column based off the scaled data\n",
    "        df = df.withColumn(new_column_name, \n",
    "                      (df[col] - mean_val) / (stddev_val))\n",
    "    return df"
   ]
  },
  {
   "cell_type": "code",
   "execution_count": 76,
   "metadata": {},
   "outputs": [],
   "source": [
    "df_new = standard_scaler(df_sub, ['SalesClosePrice', 'ACRES'])"
   ]
  },
  {
   "cell_type": "code",
   "execution_count": 77,
   "metadata": {},
   "outputs": [
    {
     "name": "stdout",
     "output_type": "stream",
     "text": [
      "+-------------------+----------+-----------------+---------------+-----+-----------------+---------------+---------+------------+---------+-------------------+-----------------------+-------------------+\n",
      "|STREETNUMBERNUMERIC|FIREPLACES|LOTSIZEDIMENSIONS|       LISTTYPE|ACRES|ASSUMABLEMORTGAGE|SalesClosePrice|ListPrice|DAYSONMARKET|YEARBUILT|log_SalesClosePrice|StandardSalesClosePrice|      StandardACRES|\n",
      "+-------------------+----------+-----------------+---------------+-----+-----------------+---------------+---------+------------+---------+-------------------+-----------------------+-------------------+\n",
      "|              11511|         0|          279X200|Exclusive Right| 1.28|             null|         143000|   139900|          10|     1950| 11.870599909242044|    -0.9317590876349842|-2.0833537742199817|\n",
      "|              11200|         0|          100x140|Exclusive Right| 0.32|             null|         190000|   210000|           4|     1971| 12.154779351142624|     -0.553259543936307| -2.083361505274491|\n",
      "+-------------------+----------+-----------------+---------------+-----+-----------------+---------------+---------+------------+---------+-------------------+-----------------------+-------------------+\n",
      "only showing top 2 rows\n",
      "\n"
     ]
    }
   ],
   "source": [
    "df_new.show(2)"
   ]
  },
  {
   "cell_type": "markdown",
   "metadata": {},
   "source": [
    "#### 7. Log scaling"
   ]
  },
  {
   "cell_type": "code",
   "execution_count": 78,
   "metadata": {},
   "outputs": [],
   "source": [
    "df_new = df_sub.withColumn(\"log_SalesClosePrice\", F.log(F.col(\"SalesClosePrice\")))"
   ]
  },
  {
   "cell_type": "code",
   "execution_count": 79,
   "metadata": {},
   "outputs": [
    {
     "name": "stdout",
     "output_type": "stream",
     "text": [
      "+-------------------+----------+-----------------+---------------+-----+-----------------+---------------+---------+------------+---------+-------------------+\n",
      "|STREETNUMBERNUMERIC|FIREPLACES|LOTSIZEDIMENSIONS|       LISTTYPE|ACRES|ASSUMABLEMORTGAGE|SalesClosePrice|ListPrice|DAYSONMARKET|YEARBUILT|log_SalesClosePrice|\n",
      "+-------------------+----------+-----------------+---------------+-----+-----------------+---------------+---------+------------+---------+-------------------+\n",
      "|              11511|         0|          279X200|Exclusive Right| 1.28|             null|         143000|   139900|          10|     1950| 11.870599909242044|\n",
      "|              11200|         0|          100x140|Exclusive Right| 0.32|             null|         190000|   210000|           4|     1971| 12.154779351142624|\n",
      "+-------------------+----------+-----------------+---------------+-----+-----------------+---------------+---------+------------+---------+-------------------+\n",
      "only showing top 2 rows\n",
      "\n"
     ]
    }
   ],
   "source": [
    "df_new.show(2)"
   ]
  },
  {
   "cell_type": "markdown",
   "metadata": {},
   "source": [
    "#### 8. Missing data"
   ]
  },
  {
   "cell_type": "markdown",
   "metadata": {},
   "source": [
    "count missing data"
   ]
  },
  {
   "cell_type": "code",
   "execution_count": 82,
   "metadata": {},
   "outputs": [
    {
     "data": {
      "text/plain": [
       "3104"
      ]
     },
     "execution_count": 82,
     "metadata": {},
     "output_type": "execute_result"
    }
   ],
   "source": [
    "# count missing rows\n",
    "df.where(df[\"ASSUMABLEMORTGAGE\"].isNull()).count()"
   ]
  },
  {
   "cell_type": "code",
   "execution_count": 83,
   "metadata": {},
   "outputs": [
    {
     "data": {
      "text/plain": [
       "5000"
      ]
     },
     "execution_count": 83,
     "metadata": {},
     "output_type": "execute_result"
    }
   ],
   "source": [
    "df.count()"
   ]
  },
  {
   "cell_type": "code",
   "execution_count": 85,
   "metadata": {},
   "outputs": [
    {
     "data": {
      "text/plain": [
       "0.621"
      ]
     },
     "execution_count": 85,
     "metadata": {},
     "output_type": "execute_result"
    }
   ],
   "source": [
    "rate_missing = round(df.where(df[\"ASSUMABLEMORTGAGE\"].isNull()).count() / df.count(), 3)\n",
    "rate_missing"
   ]
  },
  {
   "cell_type": "markdown",
   "metadata": {},
   "source": [
    "Remove missing data when:\n",
    "- Rate of missing data is small.\n",
    "- Randomly missing"
   ]
  },
  {
   "cell_type": "code",
   "execution_count": 86,
   "metadata": {},
   "outputs": [],
   "source": [
    "# drop column with more than threshold percentage with missing value\n",
    "def column_dropper(df, threshold):\n",
    "    # Takes a dataframe and threshold for missing values. \n",
    "    # Returns a dataframe.\n",
    "    total_records = df.count()\n",
    "    for col in df.columns:\n",
    "        # Calculate the percentage of missing values\n",
    "        missing = df.where(df[col].isNull()).count()\n",
    "        missing_percent = missing / total_records\n",
    "        # Drop column if percent of missing is more than threshold\n",
    "        if missing_percent > threshold:\n",
    "            df = df.drop(col)\n",
    "    return df"
   ]
  },
  {
   "cell_type": "code",
   "execution_count": 87,
   "metadata": {},
   "outputs": [],
   "source": [
    "df_new = column_dropper(df, 0.5)"
   ]
  },
  {
   "cell_type": "code",
   "execution_count": 90,
   "metadata": {},
   "outputs": [
    {
     "name": "stdout",
     "output_type": "stream",
     "text": [
      "Number dropped columns: 6\n"
     ]
    }
   ],
   "source": [
    "print(f'Number dropped columns: {len(df.columns) - len(df_new.columns)}')"
   ]
  }
 ],
 "metadata": {
  "interpreter": {
   "hash": "9e8b2dc75a532c1b8be16e00f9f13abc240a1ac4ad83b862d6ae36ef062a2a95"
  },
  "kernelspec": {
   "display_name": "Python 3.8.13 ('pyspark')",
   "language": "python",
   "name": "python3"
  },
  "language_info": {
   "codemirror_mode": {
    "name": "ipython",
    "version": 3
   },
   "file_extension": ".py",
   "mimetype": "text/x-python",
   "name": "python",
   "nbconvert_exporter": "python",
   "pygments_lexer": "ipython3",
   "version": "3.8.13"
  },
  "orig_nbformat": 4
 },
 "nbformat": 4,
 "nbformat_minor": 2
}
