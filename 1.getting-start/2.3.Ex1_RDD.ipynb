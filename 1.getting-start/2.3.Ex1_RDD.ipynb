{
 "cells": [
  {
   "cell_type": "code",
   "execution_count": 1,
   "id": "72715593",
   "metadata": {},
   "outputs": [],
   "source": [
    "import pyspark\n",
    "from pyspark import SparkContext\n",
    "from pyspark.sql import SparkSession\n",
    "import os"
   ]
  },
  {
   "cell_type": "code",
   "execution_count": 2,
   "id": "6322bbb0",
   "metadata": {},
   "outputs": [
    {
     "name": "stderr",
     "output_type": "stream",
     "text": [
      "22/05/06 17:55:57 WARN Utils: Your hostname, Nathans-MacBook-Pro.local resolves to a loopback address: 127.0.0.1; using 192.168.1.2 instead (on interface en0)\n",
      "22/05/06 17:55:57 WARN Utils: Set SPARK_LOCAL_IP if you need to bind to another address\n",
      "WARNING: An illegal reflective access operation has occurred\n",
      "WARNING: Illegal reflective access by org.apache.spark.unsafe.Platform (file:/opt/homebrew/Cellar/apache-spark/3.2.1/libexec/jars/spark-unsafe_2.12-3.2.1.jar) to constructor java.nio.DirectByteBuffer(long,int)\n",
      "WARNING: Please consider reporting this to the maintainers of org.apache.spark.unsafe.Platform\n",
      "WARNING: Use --illegal-access=warn to enable warnings of further illegal reflective access operations\n",
      "WARNING: All illegal access operations will be denied in a future release\n",
      "Using Spark's default log4j profile: org/apache/spark/log4j-defaults.properties\n",
      "Setting default log level to \"WARN\".\n",
      "To adjust logging level use sc.setLogLevel(newLevel). For SparkR, use setLogLevel(newLevel).\n",
      "22/05/06 17:55:57 WARN NativeCodeLoader: Unable to load native-hadoop library for your platform... using builtin-java classes where applicable\n"
     ]
    }
   ],
   "source": [
    "sc = SparkContext()"
   ]
  },
  {
   "cell_type": "markdown",
   "id": "52525385",
   "metadata": {},
   "source": [
    "### Requirements:"
   ]
  },
  {
   "cell_type": "markdown",
   "id": "c75c9cf3",
   "metadata": {},
   "source": [
    "### Solution"
   ]
  },
  {
   "cell_type": "markdown",
   "id": "62013e9e",
   "metadata": {},
   "source": [
    "#### Q1"
   ]
  },
  {
   "cell_type": "code",
   "execution_count": 7,
   "id": "3463a5d8",
   "metadata": {},
   "outputs": [],
   "source": [
    "data_file_path = os.path.join('..', 'src-data', 'kddcup.data_10_percent_corrected')\n",
    "RDD = sc.textFile(data_file_path)"
   ]
  },
  {
   "cell_type": "markdown",
   "id": "cb5834c7",
   "metadata": {},
   "source": [
    "#### Q2"
   ]
  },
  {
   "cell_type": "code",
   "execution_count": 8,
   "id": "88873fda",
   "metadata": {},
   "outputs": [
    {
     "name": "stdout",
     "output_type": "stream",
     "text": [
      "Number of element: 494021\n"
     ]
    }
   ],
   "source": [
    "print(f\"Number of element: {RDD.count()}\")"
   ]
  },
  {
   "cell_type": "markdown",
   "id": "eb96d639",
   "metadata": {},
   "source": [
    "#### Q3"
   ]
  },
  {
   "cell_type": "code",
   "execution_count": 10,
   "id": "e1c3e903",
   "metadata": {},
   "outputs": [
    {
     "data": {
      "text/plain": [
       "['0,tcp,http,SF,181,5450,0,0,0,0,0,1,0,0,0,0,0,0,0,0,0,0,8,8,0.00,0.00,0.00,0.00,1.00,0.00,0.00,9,9,1.00,0.00,0.11,0.00,0.00,0.00,0.00,0.00,normal.',\n",
       " '0,tcp,http,SF,239,486,0,0,0,0,0,1,0,0,0,0,0,0,0,0,0,0,8,8,0.00,0.00,0.00,0.00,1.00,0.00,0.00,19,19,1.00,0.00,0.05,0.00,0.00,0.00,0.00,0.00,normal.',\n",
       " '0,tcp,http,SF,235,1337,0,0,0,0,0,1,0,0,0,0,0,0,0,0,0,0,8,8,0.00,0.00,0.00,0.00,1.00,0.00,0.00,29,29,1.00,0.00,0.03,0.00,0.00,0.00,0.00,0.00,normal.']"
      ]
     },
     "execution_count": 10,
     "metadata": {},
     "output_type": "execute_result"
    }
   ],
   "source": [
    "RDD.take(3)"
   ]
  },
  {
   "cell_type": "markdown",
   "id": "a798e32d",
   "metadata": {},
   "source": [
    "#### Q4"
   ]
  },
  {
   "cell_type": "code",
   "execution_count": 12,
   "id": "6c622930",
   "metadata": {},
   "outputs": [],
   "source": [
    "RDD_normal = RDD.filter(lambda x: 'normal.' in x)"
   ]
  },
  {
   "cell_type": "markdown",
   "id": "7a29ea36",
   "metadata": {},
   "source": [
    "#### Q5"
   ]
  },
  {
   "cell_type": "code",
   "execution_count": 13,
   "id": "9ffcab62",
   "metadata": {},
   "outputs": [],
   "source": [
    "import time"
   ]
  },
  {
   "cell_type": "code",
   "execution_count": 14,
   "id": "25da1272",
   "metadata": {},
   "outputs": [
    {
     "name": "stdout",
     "output_type": "stream",
     "text": [
      "Number of element in RDD_normal: 97278\n",
      "Duration: 0.19905519485473633\n"
     ]
    }
   ],
   "source": [
    "start = time.time()\n",
    "count_normal = RDD_normal.count()\n",
    "duration = time.time() - start\n",
    "print(f\"Number of element in RDD_normal: {count_normal}\")\n",
    "print(f\"Duration: {duration}\")"
   ]
  },
  {
   "cell_type": "markdown",
   "id": "93756a03",
   "metadata": {},
   "source": [
    "#### Q6"
   ]
  },
  {
   "cell_type": "code",
   "execution_count": 15,
   "id": "41d448c9",
   "metadata": {},
   "outputs": [
    {
     "name": "stdout",
     "output_type": "stream",
     "text": [
      "Duration: 0.7444717884063721\n"
     ]
    }
   ],
   "source": [
    "start = time.time()\n",
    "lst = RDD.collect()\n",
    "duration = time.time() - start\n",
    "print(f\"Duration: {duration}\")"
   ]
  },
  {
   "cell_type": "markdown",
   "id": "31bddb41",
   "metadata": {},
   "source": [
    "#### Q7\n",
    "Use `sample()` method."
   ]
  },
  {
   "cell_type": "code",
   "execution_count": 17,
   "id": "3ef46279",
   "metadata": {},
   "outputs": [
    {
     "name": "stdout",
     "output_type": "stream",
     "text": [
      "Sample size:  49214 and Original size: 494021\n"
     ]
    }
   ],
   "source": [
    "RDD_sample = RDD.sample(withReplacement = False, fraction = 0.1, seed = 42)\n",
    "print(f\"Sample size:  {RDD_sample.count()} and Original size: {RDD.count()}\")"
   ]
  },
  {
   "cell_type": "markdown",
   "id": "b0a7f14d",
   "metadata": {},
   "source": [
    "#### Q8"
   ]
  },
  {
   "cell_type": "code",
   "execution_count": 18,
   "id": "4ab1763f",
   "metadata": {},
   "outputs": [
    {
     "name": "stdout",
     "output_type": "stream",
     "text": [
      "Duration: 0.16452407836914062\n",
      "RDD sample normal size: 9791\n",
      "Fraction: 0.19894745397651076\n"
     ]
    }
   ],
   "source": [
    "RDD_sample_normal = RDD_sample.filter(lambda x: 'normal.' in x)\n",
    "start = time.time() \n",
    "count_sample_normal = RDD_sample_normal.count()\n",
    "duration = time.time() - start\n",
    "\n",
    "print(f\"Duration: {duration}\")\n",
    "print(f\"RDD sample normal size: {RDD_sample_normal.count()}\")\n",
    "print(f\"Fraction: {RDD_sample_normal.count() / RDD_sample.count()}\")"
   ]
  },
  {
   "cell_type": "markdown",
   "id": "5db377ea",
   "metadata": {},
   "source": [
    "#### Q9\n",
    "Use `subtract()` method."
   ]
  },
  {
   "cell_type": "code",
   "execution_count": 19,
   "id": "64015a99",
   "metadata": {},
   "outputs": [
    {
     "name": "stdout",
     "output_type": "stream",
     "text": [
      "RDD sample without normal size: 39423\n"
     ]
    }
   ],
   "source": [
    "RDD_sample_without_normal = RDD_sample.subtract(RDD_sample_normal)\n",
    "print(f\"RDD sample without normal size: {RDD_sample_without_normal.count()}\")"
   ]
  },
  {
   "cell_type": "code",
   "execution_count": 20,
   "id": "c80b63d9",
   "metadata": {},
   "outputs": [
    {
     "data": {
      "text/plain": [
       "['0,icmp,ecr_i,SF,1032,0,0,0,0,0,0,0,0,0,0,0,0,0,0,0,0,0,509,509,0.00,0.00,0.00,0.00,1.00,0.00,0.00,255,255,1.00,0.00,1.00,0.00,0.00,0.00,0.00,0.00,smurf.']"
      ]
     },
     "execution_count": 20,
     "metadata": {},
     "output_type": "execute_result"
    }
   ],
   "source": [
    "RDD_sample_without_normal.take(1)"
   ]
  },
  {
   "cell_type": "markdown",
   "id": "607b1746",
   "metadata": {},
   "source": [
    "#### Q10"
   ]
  },
  {
   "cell_type": "code",
   "execution_count": 23,
   "id": "5cd9f5e9",
   "metadata": {},
   "outputs": [
    {
     "data": {
      "text/plain": [
       "['0',\n",
       " 'tcp',\n",
       " 'http',\n",
       " 'SF',\n",
       " '181',\n",
       " '5450',\n",
       " '0',\n",
       " '0',\n",
       " '0',\n",
       " '0',\n",
       " '0',\n",
       " '1',\n",
       " '0',\n",
       " '0',\n",
       " '0',\n",
       " '0',\n",
       " '0',\n",
       " '0',\n",
       " '0',\n",
       " '0',\n",
       " '0',\n",
       " '0',\n",
       " '8',\n",
       " '8',\n",
       " '0.00',\n",
       " '0.00',\n",
       " '0.00',\n",
       " '0.00',\n",
       " '1.00',\n",
       " '0.00',\n",
       " '0.00',\n",
       " '9',\n",
       " '9',\n",
       " '1.00',\n",
       " '0.00',\n",
       " '0.11',\n",
       " '0.00',\n",
       " '0.00',\n",
       " '0.00',\n",
       " '0.00',\n",
       " '0.00',\n",
       " 'normal.']"
      ]
     },
     "execution_count": 23,
     "metadata": {},
     "output_type": "execute_result"
    }
   ],
   "source": [
    "RDD_lst = RDD.map(lambda x: x.split(','))\n",
    "RDD_lst.first()"
   ]
  },
  {
   "cell_type": "code",
   "execution_count": 24,
   "id": "d13b32a1",
   "metadata": {},
   "outputs": [
    {
     "data": {
      "text/plain": [
       "[['0',\n",
       "  'tcp',\n",
       "  'http',\n",
       "  'SF',\n",
       "  '181',\n",
       "  '5450',\n",
       "  '0',\n",
       "  '0',\n",
       "  '0',\n",
       "  '0',\n",
       "  '0',\n",
       "  '1',\n",
       "  '0',\n",
       "  '0',\n",
       "  '0',\n",
       "  '0',\n",
       "  '0',\n",
       "  '0',\n",
       "  '0',\n",
       "  '0',\n",
       "  '0',\n",
       "  '0',\n",
       "  '8',\n",
       "  '8',\n",
       "  '0.00',\n",
       "  '0.00',\n",
       "  '0.00',\n",
       "  '0.00',\n",
       "  '1.00',\n",
       "  '0.00',\n",
       "  '0.00',\n",
       "  '9',\n",
       "  '9',\n",
       "  '1.00',\n",
       "  '0.00',\n",
       "  '0.11',\n",
       "  '0.00',\n",
       "  '0.00',\n",
       "  '0.00',\n",
       "  '0.00',\n",
       "  '0.00',\n",
       "  'normal.']]"
      ]
     },
     "execution_count": 24,
     "metadata": {},
     "output_type": "execute_result"
    }
   ],
   "source": [
    "RDD_lst.take(1)"
   ]
  },
  {
   "cell_type": "markdown",
   "id": "d99d0dc8",
   "metadata": {},
   "source": [
    "You can see the different between `first()` and `take(1)` method."
   ]
  },
  {
   "cell_type": "markdown",
   "id": "bd2a2e9a",
   "metadata": {},
   "source": [
    "#### Q11\n",
    "The 'protocal' is second column --> index = 1.\n",
    "For get unique 'protocal' value --> use `distinct()` method."
   ]
  },
  {
   "cell_type": "code",
   "execution_count": 27,
   "id": "2474e671",
   "metadata": {},
   "outputs": [
    {
     "data": {
      "text/plain": [
       "['tcp', 'tcp', 'tcp', 'tcp', 'tcp']"
      ]
     },
     "execution_count": 27,
     "metadata": {},
     "output_type": "execute_result"
    }
   ],
   "source": [
    "# get the second column\n",
    "RDD_lst.map(lambda x: x[1]).take(5)"
   ]
  },
  {
   "cell_type": "code",
   "execution_count": 31,
   "id": "e7246b5d",
   "metadata": {},
   "outputs": [
    {
     "data": {
      "text/plain": [
       "PythonRDD[46] at RDD at PythonRDD.scala:53"
      ]
     },
     "execution_count": 31,
     "metadata": {},
     "output_type": "execute_result"
    }
   ],
   "source": [
    "RDD_lst.map(lambda x: x[1]).distinct()"
   ]
  },
  {
   "cell_type": "code",
   "execution_count": 29,
   "id": "dadab9de",
   "metadata": {},
   "outputs": [
    {
     "data": {
      "text/plain": [
       "pyspark.rdd.PipelinedRDD"
      ]
     },
     "execution_count": 29,
     "metadata": {},
     "output_type": "execute_result"
    }
   ],
   "source": [
    "type(RDD_lst.map(lambda x: x[1]).distinct())"
   ]
  },
  {
   "cell_type": "code",
   "execution_count": 34,
   "id": "84a0e73d",
   "metadata": {},
   "outputs": [
    {
     "name": "stdout",
     "output_type": "stream",
     "text": [
      "unique protocals: ['tcp', 'udp', 'icmp']\n",
      "number of unique protocals: 3\n"
     ]
    }
   ],
   "source": [
    "unique_protocals = RDD_lst.map(lambda x: x[1]).distinct()\n",
    "print(f\"unique protocals: {unique_protocals.collect()}\")\n",
    "print(f\"number of unique protocals: {unique_protocals.count()}\")"
   ]
  },
  {
   "cell_type": "markdown",
   "id": "c36d593a",
   "metadata": {},
   "source": [
    "#### Q12"
   ]
  },
  {
   "cell_type": "code",
   "execution_count": 35,
   "id": "6720232b",
   "metadata": {},
   "outputs": [
    {
     "name": "stdout",
     "output_type": "stream",
     "text": [
      "unique services: ['http', 'domain_u', 'auth', 'pop_3', 'rje', 'whois', 'login', 'imap4', 'supdup', 'csnet_ns', 'sunrpc', 'uucp_path', 'netbios_dgm', 'Z39_50', 'netstat', 'urh_i', 'urp_i', 'pm_dump', 'tftp_u', 'red_i', 'smtp', 'finger', 'telnet', 'eco_i', 'ecr_i', 'private', 'ftp_data', 'mtp', 'link', 'gopher', 'ssh', 'name', 'ctf', 'shell', 'IRC', 'efs', 'courier', 'echo', 'iso_tsap', 'hostnames', 'netbios_ns', 'vmnet', 'bgp', 'ftp', 'ntp_u', 'other', 'time', 'remote_job', 'domain', 'daytime', 'nntp', 'nnsp', 'http_443', 'exec', 'printer', 'uucp', 'klogin', 'kshell', 'discard', 'systat', 'pop_2', 'netbios_ssn', 'sql_net', 'ldap', 'X11', 'tim_i']\n",
      "number of unique services: 66\n"
     ]
    }
   ],
   "source": [
    "unique_services = RDD_lst.map(lambda x: x[2]).distinct()\n",
    "print(f\"unique services: {unique_services.collect()}\")\n",
    "print(f\"number of unique services: {unique_services.count()}\")"
   ]
  },
  {
   "cell_type": "markdown",
   "id": "c4e91afd",
   "metadata": {},
   "source": [
    "#### Q13\n",
    "Use `cartesian` method. [here](https://spark.apache.org/docs/latest/api/python/reference/api/pyspark.RDD.cartesian.html)"
   ]
  },
  {
   "cell_type": "code",
   "execution_count": 37,
   "id": "01b740fd",
   "metadata": {},
   "outputs": [
    {
     "data": {
      "text/plain": [
       "pyspark.rdd.RDD"
      ]
     },
     "execution_count": 37,
     "metadata": {},
     "output_type": "execute_result"
    }
   ],
   "source": [
    "type(unique_protocals.cartesian(unique_services))"
   ]
  },
  {
   "cell_type": "code",
   "execution_count": 40,
   "id": "d2997c4a",
   "metadata": {},
   "outputs": [
    {
     "data": {
      "text/plain": [
       "[('tcp', 'http'),\n",
       " ('tcp', 'domain_u'),\n",
       " ('tcp', 'auth'),\n",
       " ('tcp', 'pop_3'),\n",
       " ('tcp', 'rje'),\n",
       " ('tcp', 'whois'),\n",
       " ('tcp', 'login'),\n",
       " ('tcp', 'imap4'),\n",
       " ('tcp', 'supdup'),\n",
       " ('tcp', 'csnet_ns')]"
      ]
     },
     "execution_count": 40,
     "metadata": {},
     "output_type": "execute_result"
    }
   ],
   "source": [
    "products = unique_protocals.cartesian(unique_services)\n",
    "products.collect()[:10] # print first 10 rows."
   ]
  },
  {
   "cell_type": "code",
   "execution_count": 41,
   "id": "1f7f1d52",
   "metadata": {},
   "outputs": [
    {
     "name": "stdout",
     "output_type": "stream",
     "text": [
      "Number of combination of protocal x services: 198\n"
     ]
    }
   ],
   "source": [
    "print(f\"Number of combination of protocal x services: {products.count()}\")"
   ]
  },
  {
   "cell_type": "markdown",
   "id": "6304bda2",
   "metadata": {},
   "source": [
    "#### Q14"
   ]
  },
  {
   "cell_type": "code",
   "execution_count": 42,
   "id": "9bc6f6d7",
   "metadata": {},
   "outputs": [
    {
     "data": {
      "text/plain": [
       "3"
      ]
     },
     "execution_count": 42,
     "metadata": {},
     "output_type": "execute_result"
    }
   ],
   "source": [
    "RDD_lst.getNumPartitions()"
   ]
  },
  {
   "cell_type": "markdown",
   "id": "cb305bd9",
   "metadata": {},
   "source": [
    "#### Q15"
   ]
  },
  {
   "cell_type": "code",
   "execution_count": 44,
   "id": "e245e27e",
   "metadata": {},
   "outputs": [
    {
     "name": "stderr",
     "output_type": "stream",
     "text": [
      "                                                                                \r"
     ]
    }
   ],
   "source": [
    "save_RDD_file_path = os.path.join('..', 'src-data', 'kdd_cup')\n",
    "RDD_lst.saveAsTextFile(save_RDD_file_path)"
   ]
  }
 ],
 "metadata": {
  "kernelspec": {
   "display_name": "Python 3 (ipykernel)",
   "language": "python",
   "name": "python3"
  },
  "language_info": {
   "codemirror_mode": {
    "name": "ipython",
    "version": 3
   },
   "file_extension": ".py",
   "mimetype": "text/x-python",
   "name": "python",
   "nbconvert_exporter": "python",
   "pygments_lexer": "ipython3",
   "version": "3.8.13"
  }
 },
 "nbformat": 4,
 "nbformat_minor": 5
}
