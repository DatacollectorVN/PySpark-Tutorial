{
 "cells": [
  {
   "cell_type": "code",
   "execution_count": 1,
   "id": "102650e5",
   "metadata": {},
   "outputs": [],
   "source": [
    "import pyspark\n",
    "from pyspark import SparkContext\n",
    "from pyspark.sql import SparkSession\n",
    "import os"
   ]
  },
  {
   "cell_type": "code",
   "execution_count": 2,
   "id": "34942e90",
   "metadata": {},
   "outputs": [
    {
     "name": "stderr",
     "output_type": "stream",
     "text": [
      "22/05/07 16:38:48 WARN Utils: Your hostname, Nathans-MacBook-Pro.local resolves to a loopback address: 127.0.0.1; using 192.168.0.79 instead (on interface en0)\n",
      "22/05/07 16:38:48 WARN Utils: Set SPARK_LOCAL_IP if you need to bind to another address\n",
      "WARNING: An illegal reflective access operation has occurred\n",
      "WARNING: Illegal reflective access by org.apache.spark.unsafe.Platform (file:/opt/homebrew/Cellar/apache-spark/3.2.1/libexec/jars/spark-unsafe_2.12-3.2.1.jar) to constructor java.nio.DirectByteBuffer(long,int)\n",
      "WARNING: Please consider reporting this to the maintainers of org.apache.spark.unsafe.Platform\n",
      "WARNING: Use --illegal-access=warn to enable warnings of further illegal reflective access operations\n",
      "WARNING: All illegal access operations will be denied in a future release\n",
      "Using Spark's default log4j profile: org/apache/spark/log4j-defaults.properties\n",
      "Setting default log level to \"WARN\".\n",
      "To adjust logging level use sc.setLogLevel(newLevel). For SparkR, use setLogLevel(newLevel).\n",
      "22/05/07 16:38:48 WARN NativeCodeLoader: Unable to load native-hadoop library for your platform... using builtin-java classes where applicable\n"
     ]
    }
   ],
   "source": [
    "sc = SparkContext()"
   ]
  },
  {
   "cell_type": "markdown",
   "id": "32faf94c",
   "metadata": {},
   "source": [
    "### Requirements"
   ]
  },
  {
   "cell_type": "markdown",
   "id": "8fb711d7",
   "metadata": {},
   "source": [
    "![plot](https://github.com/DatacollectorVN/PySpark-Tutorial/blob/master/public-imgs/2_ex2.jpg?raw=true)"
   ]
  },
  {
   "cell_type": "markdown",
   "id": "00b6cfea",
   "metadata": {},
   "source": [
    "### Solutions"
   ]
  },
  {
   "cell_type": "markdown",
   "id": "e260c2ad",
   "metadata": {},
   "source": [
    "#### Q1"
   ]
  },
  {
   "cell_type": "code",
   "execution_count": 4,
   "id": "2148b270",
   "metadata": {},
   "outputs": [],
   "source": [
    "data_file_path = os.path.join('..', 'src-data', '5000_points.txt')\n",
    "RDD = sc.textFile(data_file_path, minPartitions = 3)"
   ]
  },
  {
   "cell_type": "code",
   "execution_count": 5,
   "id": "c5174bf4",
   "metadata": {},
   "outputs": [
    {
     "name": "stdout",
     "output_type": "stream",
     "text": [
      "Number of element: 5000\n"
     ]
    }
   ],
   "source": [
    "print(f'Number of element: {RDD.count()}')"
   ]
  },
  {
   "cell_type": "code",
   "execution_count": 6,
   "id": "b1cd6b50",
   "metadata": {},
   "outputs": [
    {
     "data": {
      "text/plain": [
       "['664159\\t550946',\n",
       " '665845\\t557965',\n",
       " '597173\\t575538',\n",
       " '618600\\t551446',\n",
       " '635690\\t608046']"
      ]
     },
     "execution_count": 6,
     "metadata": {},
     "output_type": "execute_result"
    }
   ],
   "source": [
    "RDD.take(5)"
   ]
  },
  {
   "cell_type": "markdown",
   "id": "8b9bb676",
   "metadata": {},
   "source": [
    "#### Q2"
   ]
  },
  {
   "cell_type": "code",
   "execution_count": 9,
   "id": "844e44e0",
   "metadata": {},
   "outputs": [],
   "source": [
    "pair_RDD = RDD.map(lambda x: (int(x.split('\\t')[0]), int(x.split('\\t')[1])))"
   ]
  },
  {
   "cell_type": "code",
   "execution_count": 10,
   "id": "864d5c54",
   "metadata": {},
   "outputs": [
    {
     "data": {
      "text/plain": [
       "[(664159, 550946),\n",
       " (665845, 557965),\n",
       " (597173, 575538),\n",
       " (618600, 551446),\n",
       " (635690, 608046)]"
      ]
     },
     "execution_count": 10,
     "metadata": {},
     "output_type": "execute_result"
    }
   ],
   "source": [
    "pair_RDD.take(5)"
   ]
  },
  {
   "cell_type": "markdown",
   "id": "151ad4ab",
   "metadata": {},
   "source": [
    "#### Q3"
   ]
  },
  {
   "cell_type": "code",
   "execution_count": 11,
   "id": "19c49888",
   "metadata": {},
   "outputs": [],
   "source": [
    "pair_RDD_sort = pair_RDD.sortByKey(ascending = False)"
   ]
  },
  {
   "cell_type": "code",
   "execution_count": 12,
   "id": "6e96787a",
   "metadata": {},
   "outputs": [
    {
     "data": {
      "text/plain": [
       "[(961951, 577029),\n",
       " (937823, 540173),\n",
       " (932662, 537069),\n",
       " (927170, 250593),\n",
       " (925732, 210388)]"
      ]
     },
     "execution_count": 12,
     "metadata": {},
     "output_type": "execute_result"
    }
   ],
   "source": [
    "pair_RDD_sort.take(5)"
   ]
  },
  {
   "cell_type": "markdown",
   "id": "a65f58fc",
   "metadata": {},
   "source": [
    "#### Q4"
   ]
  },
  {
   "cell_type": "code",
   "execution_count": 13,
   "id": "228dcc8d",
   "metadata": {},
   "outputs": [
    {
     "name": "stdout",
     "output_type": "stream",
     "text": [
      "871544 2\n",
      "865489 2\n",
      "838036 2\n",
      "826192 2\n",
      "805089 2\n",
      "804251 2\n",
      "620330 2\n",
      "618869 2\n",
      "393758 2\n",
      "341966 2\n",
      "338474 2\n",
      "186380 2\n",
      "166973 2\n"
     ]
    }
   ],
   "source": [
    "for key, val in pair_RDD_sort.countByKey().items():\n",
    "    if val > 1:\n",
    "        print(key, val)"
   ]
  },
  {
   "cell_type": "markdown",
   "id": "f5ab4eba",
   "metadata": {},
   "source": [
    "#### Q5"
   ]
  },
  {
   "cell_type": "code",
   "execution_count": 14,
   "id": "b70ab10b",
   "metadata": {},
   "outputs": [],
   "source": [
    "pair_RDD_groupby = pair_RDD.groupByKey().collect()"
   ]
  },
  {
   "cell_type": "code",
   "execution_count": 15,
   "id": "01d51261",
   "metadata": {},
   "outputs": [
    {
     "data": {
      "text/plain": [
       "[(618600, <pyspark.resultiterable.ResultIterable at 0x1128191f0>),\n",
       " (582015, <pyspark.resultiterable.ResultIterable at 0x112a68e20>),\n",
       " (604737, <pyspark.resultiterable.ResultIterable at 0x112a68f10>),\n",
       " (577728, <pyspark.resultiterable.ResultIterable at 0x112a68c40>),\n",
       " (602013, <pyspark.resultiterable.ResultIterable at 0x112a68790>)]"
      ]
     },
     "execution_count": 15,
     "metadata": {},
     "output_type": "execute_result"
    }
   ],
   "source": [
    "pair_RDD_groupby[:5]"
   ]
  },
  {
   "cell_type": "code",
   "execution_count": 17,
   "id": "c232582c",
   "metadata": {},
   "outputs": [
    {
     "name": "stdout",
     "output_type": "stream",
     "text": [
      "805089 [762512, 96540]\n",
      "838036 [749612, 542999]\n",
      "826192 [172906, 577784]\n",
      "865489 [161762, 548920]\n",
      "618869 [577243, 398187]\n",
      "804251 [329956, 331304]\n",
      "393758 [750953, 439738]\n",
      "871544 [144135, 592403]\n",
      "338474 [563350, 564151]\n",
      "341966 [561987, 586266]\n",
      "186380 [363938, 487625]\n",
      "166973 [341636, 334724]\n",
      "620330 [398630, 396776]\n"
     ]
    }
   ],
   "source": [
    "for key, items in pair_RDD_groupby:\n",
    "    if len(items) > 1:\n",
    "        print(key, list(items))"
   ]
  },
  {
   "cell_type": "markdown",
   "id": "e03f4451",
   "metadata": {},
   "source": [
    "#### Q6"
   ]
  },
  {
   "cell_type": "code",
   "execution_count": 18,
   "id": "4e4cb78c",
   "metadata": {},
   "outputs": [],
   "source": [
    "pair_RDD_reduce = pair_RDD.reduceByKey(lambda x, y: max(x, y))"
   ]
  },
  {
   "cell_type": "code",
   "execution_count": 19,
   "id": "7bed01be",
   "metadata": {},
   "outputs": [
    {
     "name": "stdout",
     "output_type": "stream",
     "text": [
      "Number of elements: 4987\n"
     ]
    }
   ],
   "source": [
    "print(f'Number of elements: {pair_RDD_reduce.count()}')"
   ]
  },
  {
   "cell_type": "code",
   "execution_count": 21,
   "id": "0a08c2fb",
   "metadata": {},
   "outputs": [
    {
     "name": "stdout",
     "output_type": "stream",
     "text": [
      "762512\n",
      "749612\n"
     ]
    }
   ],
   "source": [
    "# check max value or not\n",
    "for key, value in pair_RDD_reduce.collect():\n",
    "    if key == 805089:\n",
    "        print(value)\n",
    "    if key == 838036:\n",
    "        print(value)"
   ]
  }
 ],
 "metadata": {
  "kernelspec": {
   "display_name": "Python 3 (ipykernel)",
   "language": "python",
   "name": "python3"
  },
  "language_info": {
   "codemirror_mode": {
    "name": "ipython",
    "version": 3
   },
   "file_extension": ".py",
   "mimetype": "text/x-python",
   "name": "python",
   "nbconvert_exporter": "python",
   "pygments_lexer": "ipython3",
   "version": "3.8.13"
  }
 },
 "nbformat": 4,
 "nbformat_minor": 5
}
